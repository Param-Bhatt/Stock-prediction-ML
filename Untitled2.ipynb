{
  "nbformat": 4,
  "nbformat_minor": 0,
  "metadata": {
    "colab": {
      "name": "Untitled2.ipynb",
      "provenance": [],
      "include_colab_link": true
    },
    "kernelspec": {
      "name": "python3",
      "display_name": "Python 3"
    }
  },
  "cells": [
    {
      "cell_type": "markdown",
      "metadata": {
        "id": "view-in-github",
        "colab_type": "text"
      },
      "source": [
        "<a href=\"https://colab.research.google.com/github/Param-Bhatt/Stock-prediction-ML/blob/tesla/Untitled2.ipynb\" target=\"_parent\"><img src=\"https://colab.research.google.com/assets/colab-badge.svg\" alt=\"Open In Colab\"/></a>"
      ]
    },
    {
      "cell_type": "code",
      "metadata": {
        "id": "ijR1J7dF5B1Z",
        "colab_type": "code",
        "colab": {}
      },
      "source": [
        "# This program uses artificial recurrent neural network called Long Short Term Memory (LSTM) to predict the closing stock of a corporation using past 60 day stock price"
      ],
      "execution_count": 0,
      "outputs": []
    },
    {
      "cell_type": "code",
      "metadata": {
        "id": "Ygy5MUNw5FGK",
        "colab_type": "code",
        "outputId": "1444c147-b185-47b2-9e82-1457631f5559",
        "colab": {
          "base_uri": "https://localhost:8080/",
          "height": 68
        }
      },
      "source": [
        "# Import the libraries\n",
        "import math\n",
        "import pandas_datareader as web\n",
        "import numpy as np\n",
        "import pandas as pd\n",
        "from pandas.util.testing import assert_frame_equal\n",
        "from sklearn.preprocessing import MinMaxScaler\n",
        "from keras.models import Sequential\n",
        "from keras.layers import Dense, LSTM\n",
        "import matplotlib.pyplot as plt\n",
        "plt.style.use('fivethirtyeight')"
      ],
      "execution_count": 0,
      "outputs": [
        {
          "output_type": "stream",
          "text": [
            "/usr/local/lib/python3.6/dist-packages/pandas_datareader/compat/__init__.py:7: FutureWarning: pandas.util.testing is deprecated. Use the functions in the public API at pandas.testing instead.\n",
            "  from pandas.util.testing import assert_frame_equal\n",
            "Using TensorFlow backend.\n"
          ],
          "name": "stderr"
        }
      ]
    },
    {
      "cell_type": "code",
      "metadata": {
        "id": "OKB-u_xM5HYw",
        "colab_type": "code",
        "outputId": "770a7ca7-57c8-45f6-8a35-9f5f688bf502",
        "colab": {
          "base_uri": "https://localhost:8080/",
          "height": 450
        }
      },
      "source": [
        "# Get the stock data\n",
        "df = web.DataReader('TSLA',data_source='yahoo', start='2014-01-01',end='2020-04-11')\n",
        "# Show the data\n",
        "df"
      ],
      "execution_count": 0,
      "outputs": [
        {
          "output_type": "execute_result",
          "data": {
            "text/html": [
              "<div>\n",
              "<style scoped>\n",
              "    .dataframe tbody tr th:only-of-type {\n",
              "        vertical-align: middle;\n",
              "    }\n",
              "\n",
              "    .dataframe tbody tr th {\n",
              "        vertical-align: top;\n",
              "    }\n",
              "\n",
              "    .dataframe thead th {\n",
              "        text-align: right;\n",
              "    }\n",
              "</style>\n",
              "<table border=\"1\" class=\"dataframe\">\n",
              "  <thead>\n",
              "    <tr style=\"text-align: right;\">\n",
              "      <th></th>\n",
              "      <th>High</th>\n",
              "      <th>Low</th>\n",
              "      <th>Open</th>\n",
              "      <th>Close</th>\n",
              "      <th>Volume</th>\n",
              "      <th>Adj Close</th>\n",
              "    </tr>\n",
              "    <tr>\n",
              "      <th>Date</th>\n",
              "      <th></th>\n",
              "      <th></th>\n",
              "      <th></th>\n",
              "      <th></th>\n",
              "      <th></th>\n",
              "      <th></th>\n",
              "    </tr>\n",
              "  </thead>\n",
              "  <tbody>\n",
              "    <tr>\n",
              "      <th>2014-01-02</th>\n",
              "      <td>152.479996</td>\n",
              "      <td>146.550003</td>\n",
              "      <td>149.800003</td>\n",
              "      <td>150.100006</td>\n",
              "      <td>6188400</td>\n",
              "      <td>150.100006</td>\n",
              "    </tr>\n",
              "    <tr>\n",
              "      <th>2014-01-03</th>\n",
              "      <td>152.190002</td>\n",
              "      <td>148.600006</td>\n",
              "      <td>150.000000</td>\n",
              "      <td>149.559998</td>\n",
              "      <td>4695000</td>\n",
              "      <td>149.559998</td>\n",
              "    </tr>\n",
              "    <tr>\n",
              "      <th>2014-01-06</th>\n",
              "      <td>150.399994</td>\n",
              "      <td>145.240005</td>\n",
              "      <td>150.000000</td>\n",
              "      <td>147.000000</td>\n",
              "      <td>5361100</td>\n",
              "      <td>147.000000</td>\n",
              "    </tr>\n",
              "    <tr>\n",
              "      <th>2014-01-07</th>\n",
              "      <td>150.399994</td>\n",
              "      <td>145.250000</td>\n",
              "      <td>147.619995</td>\n",
              "      <td>149.360001</td>\n",
              "      <td>5034100</td>\n",
              "      <td>149.360001</td>\n",
              "    </tr>\n",
              "    <tr>\n",
              "      <th>2014-01-08</th>\n",
              "      <td>153.699997</td>\n",
              "      <td>148.759995</td>\n",
              "      <td>148.850006</td>\n",
              "      <td>151.279999</td>\n",
              "      <td>6163200</td>\n",
              "      <td>151.279999</td>\n",
              "    </tr>\n",
              "    <tr>\n",
              "      <th>...</th>\n",
              "      <td>...</td>\n",
              "      <td>...</td>\n",
              "      <td>...</td>\n",
              "      <td>...</td>\n",
              "      <td>...</td>\n",
              "      <td>...</td>\n",
              "    </tr>\n",
              "    <tr>\n",
              "      <th>2020-04-03</th>\n",
              "      <td>515.489990</td>\n",
              "      <td>468.390015</td>\n",
              "      <td>509.500000</td>\n",
              "      <td>480.010010</td>\n",
              "      <td>22562100</td>\n",
              "      <td>480.010010</td>\n",
              "    </tr>\n",
              "    <tr>\n",
              "      <th>2020-04-06</th>\n",
              "      <td>521.000000</td>\n",
              "      <td>497.959991</td>\n",
              "      <td>511.200012</td>\n",
              "      <td>516.239990</td>\n",
              "      <td>14901800</td>\n",
              "      <td>516.239990</td>\n",
              "    </tr>\n",
              "    <tr>\n",
              "      <th>2020-04-07</th>\n",
              "      <td>565.000000</td>\n",
              "      <td>532.340027</td>\n",
              "      <td>545.000000</td>\n",
              "      <td>545.450012</td>\n",
              "      <td>17919800</td>\n",
              "      <td>545.450012</td>\n",
              "    </tr>\n",
              "    <tr>\n",
              "      <th>2020-04-08</th>\n",
              "      <td>557.210022</td>\n",
              "      <td>533.330017</td>\n",
              "      <td>554.200012</td>\n",
              "      <td>548.840027</td>\n",
              "      <td>12656000</td>\n",
              "      <td>548.840027</td>\n",
              "    </tr>\n",
              "    <tr>\n",
              "      <th>2020-04-09</th>\n",
              "      <td>575.179993</td>\n",
              "      <td>557.109985</td>\n",
              "      <td>562.090027</td>\n",
              "      <td>573.000000</td>\n",
              "      <td>13650000</td>\n",
              "      <td>573.000000</td>\n",
              "    </tr>\n",
              "  </tbody>\n",
              "</table>\n",
              "<p>1579 rows × 6 columns</p>\n",
              "</div>"
            ],
            "text/plain": [
              "                  High         Low  ...    Volume   Adj Close\n",
              "Date                                ...                      \n",
              "2014-01-02  152.479996  146.550003  ...   6188400  150.100006\n",
              "2014-01-03  152.190002  148.600006  ...   4695000  149.559998\n",
              "2014-01-06  150.399994  145.240005  ...   5361100  147.000000\n",
              "2014-01-07  150.399994  145.250000  ...   5034100  149.360001\n",
              "2014-01-08  153.699997  148.759995  ...   6163200  151.279999\n",
              "...                ...         ...  ...       ...         ...\n",
              "2020-04-03  515.489990  468.390015  ...  22562100  480.010010\n",
              "2020-04-06  521.000000  497.959991  ...  14901800  516.239990\n",
              "2020-04-07  565.000000  532.340027  ...  17919800  545.450012\n",
              "2020-04-08  557.210022  533.330017  ...  12656000  548.840027\n",
              "2020-04-09  575.179993  557.109985  ...  13650000  573.000000\n",
              "\n",
              "[1579 rows x 6 columns]"
            ]
          },
          "metadata": {
            "tags": []
          },
          "execution_count": 3
        }
      ]
    },
    {
      "cell_type": "code",
      "metadata": {
        "id": "sRIBxaAm5Uek",
        "colab_type": "code",
        "outputId": "7a62482e-6f2c-4f50-b7b4-353268c0a7c5",
        "colab": {
          "base_uri": "https://localhost:8080/",
          "height": 34
        }
      },
      "source": [
        "df.shape"
      ],
      "execution_count": 0,
      "outputs": [
        {
          "output_type": "execute_result",
          "data": {
            "text/plain": [
              "(1579, 6)"
            ]
          },
          "metadata": {
            "tags": []
          },
          "execution_count": 4
        }
      ]
    },
    {
      "cell_type": "code",
      "metadata": {
        "id": "2O9AK4fL5Wx4",
        "colab_type": "code",
        "outputId": "1dbc2a93-116d-4325-db9d-c47e0cfa7892",
        "colab": {
          "base_uri": "https://localhost:8080/",
          "height": 575
        }
      },
      "source": [
        "#Visualize closing price history\n",
        "plt.figure(figsize=(16,8))\n",
        "plt.title('Close Price History')\n",
        "plt.plot(df['Close']  )\n",
        "plt.xlabel('Date', fontsize = 18)\n",
        "plt.ylabel('Close Price USD $', fontsize = 18)"
      ],
      "execution_count": 0,
      "outputs": [
        {
          "output_type": "execute_result",
          "data": {
            "text/plain": [
              "Text(0, 0.5, 'Close Price USD $')"
            ]
          },
          "metadata": {
            "tags": []
          },
          "execution_count": 5
        },
        {
          "output_type": "display_data",
          "data": {
            "image/png": "[encoded data removed]",
            "text/plain": [
              "<Figure size 1152x576 with 1 Axes>"
            ]
          },
          "metadata": {
            "tags": []
          }
        }
      ]
    },
    {
      "cell_type": "code",
      "metadata": {
        "id": "tQEA5jRE5dTP",
        "colab_type": "code",
        "outputId": "c5356a20-4a39-49b5-e6e2-a76b01dce512",
        "colab": {
          "base_uri": "https://localhost:8080/",
          "height": 34
        }
      },
      "source": [
        "#Create a new dataframe with only the close column\n",
        "data = df.filter(['Close'])\n",
        "#Convert the dataframe to numpy array\n",
        "dataset = data.values\n",
        "#Get the number of rows to train the model on\n",
        "training_data_len = math.ceil(len(dataset) * 0.8)\n",
        "training_data_len"
      ],
      "execution_count": 0,
      "outputs": [
        {
          "output_type": "execute_result",
          "data": {
            "text/plain": [
              "1264"
            ]
          },
          "metadata": {
            "tags": []
          },
          "execution_count": 6
        }
      ]
    },
    {
      "cell_type": "code",
      "metadata": {
        "id": "dqHskKhV5hjn",
        "colab_type": "code",
        "outputId": "06ee0a33-9adb-4827-eb48-58b3624badc5",
        "colab": {
          "base_uri": "https://localhost:8080/",
          "height": 136
        }
      },
      "source": [
        "#Scale the data (Preprocessing)\n",
        "scalar = MinMaxScaler(feature_range=(0, 1))\n",
        "scaled_data = scalar.fit_transform(dataset)\n",
        "scaled_data "
      ],
      "execution_count": 0,
      "outputs": [
        {
          "output_type": "execute_result",
          "data": {
            "text/plain": [
              "array([[0.01382892],\n",
              "       [0.0131349 ],\n",
              "       [0.00984475],\n",
              "       ...,\n",
              "       [0.52193865],\n",
              "       [0.52629554],\n",
              "       [0.5573463 ]])"
            ]
          },
          "metadata": {
            "tags": []
          },
          "execution_count": 7
        }
      ]
    },
    {
      "cell_type": "code",
      "metadata": {
        "id": "q0r9zqqH5k9o",
        "colab_type": "code",
        "outputId": "685e8815-78f1-4a87-f446-ae1226323020",
        "colab": {
          "base_uri": "https://localhost:8080/",
          "height": 748
        }
      },
      "source": [
        "#Create the training data set \n",
        "#Create the Scaled training dataset\n",
        "train_data = scaled_data[0:training_data_len, :]\n",
        "#Split the dataset into xtrain and ytrain\n",
        "x_train = []\n",
        "y_train = []\n",
        "for i in range(60, len(train_data)):\n",
        "  x_train.append(train_data[i-60:i, 0])\n",
        "  y_train.append(train_data[i, 0]) \n",
        "  if i <= 61: \n",
        "    print(x_train)\n",
        "    print()\n",
        "    print(y_train)\n",
        "    print()\n",
        "    print()"
      ],
      "execution_count": 0,
      "outputs": [
        {
          "output_type": "stream",
          "text": [
            "[array([0.01382892, 0.0131349 , 0.00984475, 0.01287786, 0.01534547,\n",
            "       0.01052591, 0.00819968, 0.        , 0.02818477, 0.03186049,\n",
            "       0.04065135, 0.03941754, 0.04798992, 0.05040613, 0.05418467,\n",
            "       0.04531669, 0.03891631, 0.0501748 , 0.04612636, 0.05590685,\n",
            "       0.054069  , 0.04854257, 0.05062461, 0.04508534, 0.0501748 ,\n",
            "       0.06064929, 0.07354   , 0.07361711, 0.07194634, 0.07748562,\n",
            "       0.07568631, 0.08271643, 0.06978717, 0.09077474, 0.09029921,\n",
            "       0.10064518, 0.13965146, 0.14607753, 0.14548632, 0.13555162,\n",
            "       0.1429416 , 0.14844232, 0.14564056, 0.14600042, 0.13735093,\n",
            "       0.12787888, 0.12218539, 0.13128471, 0.1265294 , 0.11776425,\n",
            "       0.12163274, 0.12942114, 0.12402324, 0.122828  , 0.115091  ,\n",
            "       0.10388392, 0.10423094, 0.09461754, 0.08736892, 0.09385924])]\n",
            "\n",
            "[0.08882120322205825]\n",
            "\n",
            "\n",
            "[array([0.01382892, 0.0131349 , 0.00984475, 0.01287786, 0.01534547,\n",
            "       0.01052591, 0.00819968, 0.        , 0.02818477, 0.03186049,\n",
            "       0.04065135, 0.03941754, 0.04798992, 0.05040613, 0.05418467,\n",
            "       0.04531669, 0.03891631, 0.0501748 , 0.04612636, 0.05590685,\n",
            "       0.054069  , 0.04854257, 0.05062461, 0.04508534, 0.0501748 ,\n",
            "       0.06064929, 0.07354   , 0.07361711, 0.07194634, 0.07748562,\n",
            "       0.07568631, 0.08271643, 0.06978717, 0.09077474, 0.09029921,\n",
            "       0.10064518, 0.13965146, 0.14607753, 0.14548632, 0.13555162,\n",
            "       0.1429416 , 0.14844232, 0.14564056, 0.14600042, 0.13735093,\n",
            "       0.12787888, 0.12218539, 0.13128471, 0.1265294 , 0.11776425,\n",
            "       0.12163274, 0.12942114, 0.12402324, 0.122828  , 0.115091  ,\n",
            "       0.10388392, 0.10423094, 0.09461754, 0.08736892, 0.09385924]), array([0.0131349 , 0.00984475, 0.01287786, 0.01534547, 0.01052591,\n",
            "       0.00819968, 0.        , 0.02818477, 0.03186049, 0.04065135,\n",
            "       0.03941754, 0.04798992, 0.05040613, 0.05418467, 0.04531669,\n",
            "       0.03891631, 0.0501748 , 0.04612636, 0.05590685, 0.054069  ,\n",
            "       0.04854257, 0.05062461, 0.04508534, 0.0501748 , 0.06064929,\n",
            "       0.07354   , 0.07361711, 0.07194634, 0.07748562, 0.07568631,\n",
            "       0.08271643, 0.06978717, 0.09077474, 0.09029921, 0.10064518,\n",
            "       0.13965146, 0.14607753, 0.14548632, 0.13555162, 0.1429416 ,\n",
            "       0.14844232, 0.14564056, 0.14600042, 0.13735093, 0.12787888,\n",
            "       0.12218539, 0.13128471, 0.1265294 , 0.11776425, 0.12163274,\n",
            "       0.12942114, 0.12402324, 0.122828  , 0.115091  , 0.10388392,\n",
            "       0.10423094, 0.09461754, 0.08736892, 0.09385924, 0.0888212 ])]\n",
            "\n",
            "[0.08882120322205825, 0.0997712397472165]\n",
            "\n",
            "\n"
          ],
          "name": "stdout"
        }
      ]
    },
    {
      "cell_type": "code",
      "metadata": {
        "id": "nrvpBtTV5o8_",
        "colab_type": "code",
        "colab": {}
      },
      "source": [
        "#Convert the x_train and y_train to numpy arrays \n",
        "x_train, y_train = np.array(x_train), np.array(y_train)"
      ],
      "execution_count": 0,
      "outputs": []
    },
    {
      "cell_type": "code",
      "metadata": {
        "id": "ctsTR-S25uLT",
        "colab_type": "code",
        "outputId": "805ed78d-3097-47ae-ff7b-b59845c56e81",
        "colab": {
          "base_uri": "https://localhost:8080/",
          "height": 34
        }
      },
      "source": [
        "#reshape the xtrain dataset to 3D as LSTM model takes input as a form of [number of samples, number of times steps, number of features]\n",
        "x_train = np.reshape(x_train, (x_train.shape[0], x_train.shape[1], 1))\n",
        "x_train.shape"
      ],
      "execution_count": 0,
      "outputs": [
        {
          "output_type": "execute_result",
          "data": {
            "text/plain": [
              "(1204, 60, 1)"
            ]
          },
          "metadata": {
            "tags": []
          },
          "execution_count": 10
        }
      ]
    },
    {
      "cell_type": "code",
      "metadata": {
        "id": "U2qN7DG75xOg",
        "colab_type": "code",
        "colab": {}
      },
      "source": [
        "#Build the LSTM Model\n",
        "model = Sequential()\n",
        "model.add(LSTM(50, return_sequences=True, input_shape = (x_train.shape[1], 1) ))\n",
        "model.add(LSTM(50, return_sequences=False))\n",
        "model.add(Dense(25))\n",
        "model.add(Dense(1))"
      ],
      "execution_count": 0,
      "outputs": []
    },
    {
      "cell_type": "code",
      "metadata": {
        "id": "lJkL4SJ750LH",
        "colab_type": "code",
        "colab": {}
      },
      "source": [
        "#Compile the model\n",
        "model.compile(optimizer = 'adam',loss = 'mean_squared_error')"
      ],
      "execution_count": 0,
      "outputs": []
    },
    {
      "cell_type": "code",
      "metadata": {
        "id": "9e1YhBXl535m",
        "colab_type": "code",
        "outputId": "f1e660af-8238-489c-e400-a77402f39625",
        "colab": {
          "base_uri": "https://localhost:8080/",
          "height": 204
        }
      },
      "source": [
        "#Train the model\n",
        "model.fit(x_train, y_train, batch_size=1, epochs=5, verbose=1)"
      ],
      "execution_count": 0,
      "outputs": [
        {
          "output_type": "stream",
          "text": [
            "Epoch 1/5\n",
            "1204/1204 [==============================] - 44s 36ms/step - loss: 8.0421e-04\n",
            "Epoch 2/5\n",
            "1204/1204 [==============================] - 43s 36ms/step - loss: 2.8924e-04\n",
            "Epoch 3/5\n",
            "1204/1204 [==============================] - 43s 36ms/step - loss: 2.1699e-04\n",
            "Epoch 4/5\n",
            "1204/1204 [==============================] - 43s 36ms/step - loss: 2.0696e-04\n",
            "Epoch 5/5\n",
            "1204/1204 [==============================] - 43s 35ms/step - loss: 1.7612e-04\n"
          ],
          "name": "stdout"
        },
        {
          "output_type": "execute_result",
          "data": {
            "text/plain": [
              "<keras.callbacks.callbacks.History at 0x7f66ff230e10>"
            ]
          },
          "metadata": {
            "tags": []
          },
          "execution_count": 13
        }
      ]
    },
    {
      "cell_type": "code",
      "metadata": {
        "id": "KhIYicj_542m",
        "colab_type": "code",
        "colab": {}
      },
      "source": [
        "#Create the testing dataset \n",
        "#Create the new array containing the scaled values from index 3620 to \n",
        "test_data = scaled_data[training_data_len - 60: , :]\n",
        "#Create the datasets x_test and y_test\n",
        "x_test = []\n",
        "y_test = dataset[training_data_len : , : ]\n",
        "for i in range(60, len(test_data)):\n",
        "  x_test.append(test_data[i-60 : i, 0])"
      ],
      "execution_count": 0,
      "outputs": []
    },
    {
      "cell_type": "code",
      "metadata": {
        "id": "6QKB746M58zW",
        "colab_type": "code",
        "colab": {}
      },
      "source": [
        "#Convert the data into the numpy array\n",
        "x_test = np.array(x_test)"
      ],
      "execution_count": 0,
      "outputs": []
    },
    {
      "cell_type": "code",
      "metadata": {
        "id": "owCggX8b5_ce",
        "colab_type": "code",
        "outputId": "50f75269-2117-47fe-820b-ff81cc871c5f",
        "colab": {
          "base_uri": "https://localhost:8080/",
          "height": 34
        }
      },
      "source": [
        "#Reshape the data\n",
        "x_test = np.reshape(x_test, (x_test.shape[0], x_test.shape[1], 1))\n",
        "x_test.shape"
      ],
      "execution_count": 0,
      "outputs": [
        {
          "output_type": "execute_result",
          "data": {
            "text/plain": [
              "(315, 60, 1)"
            ]
          },
          "metadata": {
            "tags": []
          },
          "execution_count": 16
        }
      ]
    },
    {
      "cell_type": "code",
      "metadata": {
        "id": "556aZIi66Cdm",
        "colab_type": "code",
        "colab": {}
      },
      "source": [
        "#Get the models to predict values\n",
        "predictions = model.predict(x_test)\n",
        "predictions = scalar.inverse_transform(predictions)"
      ],
      "execution_count": 0,
      "outputs": []
    },
    {
      "cell_type": "code",
      "metadata": {
        "id": "nhwwkN6M6EJe",
        "colab_type": "code",
        "outputId": "167b1ba1-1010-4e41-cbde-bd6cf4ee952a",
        "colab": {
          "base_uri": "https://localhost:8080/",
          "height": 34
        }
      },
      "source": [
        "#Get the RMSE\n",
        "rmse = np.sqrt(np.mean((predictions - y_test)**2))\n",
        "(100 - rmse)"
      ],
      "execution_count": 0,
      "outputs": [
        {
          "output_type": "execute_result",
          "data": {
            "text/plain": [
              "66.17430829375587"
            ]
          },
          "metadata": {
            "tags": []
          },
          "execution_count": 18
        }
      ]
    },
    {
      "cell_type": "code",
      "metadata": {
        "id": "7vEwp7Ms6GiZ",
        "colab_type": "code",
        "outputId": "3fa587ee-ab14-41d4-8fc2-58d7a81212f5",
        "colab": {
          "base_uri": "https://localhost:8080/",
          "height": 660
        }
      },
      "source": [
        "#Plot the data\n",
        "train = data[:training_data_len]\n",
        "valid = data[training_data_len : ]\n",
        "valid['Predictions'] = predictions\n",
        "#Visualize the data\n",
        "plt.figure(figsize=(16,8))\n",
        "plt.title('Tesla (TSLA)')\n",
        "plt.xlabel('Date', fontsize=18)\n",
        "plt.ylabel('Closing price in $', fontsize=18)\n",
        "plt.plot(train['Close'])\n",
        "plt.plot(valid[['Close','Predictions']])\n",
        "plt.legend(['Train', 'Actual', 'Predictions'], loc='lower right')\n",
        "plt.show()"
      ],
      "execution_count": 0,
      "outputs": [
        {
          "output_type": "stream",
          "text": [
            "/usr/local/lib/python3.6/dist-packages/ipykernel_launcher.py:3: SettingWithCopyWarning: \n",
            "A value is trying to be set on a copy of a slice from a DataFrame.\n",
            "Try using .loc[row_indexer,col_indexer] = value instead\n",
            "\n",
            "See the caveats in the documentation: https://pandas.pydata.org/pandas-docs/stable/user_guide/indexing.html#returning-a-view-versus-a-copy\n",
            "  This is separate from the ipykernel package so we can avoid doing imports until\n"
          ],
          "name": "stderr"
        },
        {
          "output_type": "display_data",
          "data": {
            "image/png": "[encoded data removed]",
            "text/plain": [
              "<Figure size 1152x576 with 1 Axes>"
            ]
          },
          "metadata": {
            "tags": []
          }
        }
      ]
    },
    {
      "cell_type": "code",
      "metadata": {
        "id": "rjIKXIYg6JYu",
        "colab_type": "code",
        "outputId": "372539f3-3c91-4f3c-89ad-0c841e3203b1",
        "colab": {
          "base_uri": "https://localhost:8080/",
          "height": 450
        }
      },
      "source": [
        "#Show the valid and predicted value\n",
        "valid"
      ],
      "execution_count": 0,
      "outputs": [
        {
          "output_type": "execute_result",
          "data": {
            "text/html": [
              "<div>\n",
              "<style scoped>\n",
              "    .dataframe tbody tr th:only-of-type {\n",
              "        vertical-align: middle;\n",
              "    }\n",
              "\n",
              "    .dataframe tbody tr th {\n",
              "        vertical-align: top;\n",
              "    }\n",
              "\n",
              "    .dataframe thead th {\n",
              "        text-align: right;\n",
              "    }\n",
              "</style>\n",
              "<table border=\"1\" class=\"dataframe\">\n",
              "  <thead>\n",
              "    <tr style=\"text-align: right;\">\n",
              "      <th></th>\n",
              "      <th>Close</th>\n",
              "      <th>Predictions</th>\n",
              "    </tr>\n",
              "    <tr>\n",
              "      <th>Date</th>\n",
              "      <th></th>\n",
              "      <th></th>\n",
              "    </tr>\n",
              "  </thead>\n",
              "  <tbody>\n",
              "    <tr>\n",
              "      <th>2019-01-10</th>\n",
              "      <td>344.970001</td>\n",
              "      <td>326.161682</td>\n",
              "    </tr>\n",
              "    <tr>\n",
              "      <th>2019-01-11</th>\n",
              "      <td>347.260010</td>\n",
              "      <td>331.500946</td>\n",
              "    </tr>\n",
              "    <tr>\n",
              "      <th>2019-01-14</th>\n",
              "      <td>334.399994</td>\n",
              "      <td>333.428070</td>\n",
              "    </tr>\n",
              "    <tr>\n",
              "      <th>2019-01-15</th>\n",
              "      <td>344.429993</td>\n",
              "      <td>321.772400</td>\n",
              "    </tr>\n",
              "    <tr>\n",
              "      <th>2019-01-16</th>\n",
              "      <td>346.049988</td>\n",
              "      <td>330.285309</td>\n",
              "    </tr>\n",
              "    <tr>\n",
              "      <th>...</th>\n",
              "      <td>...</td>\n",
              "      <td>...</td>\n",
              "    </tr>\n",
              "    <tr>\n",
              "      <th>2020-04-03</th>\n",
              "      <td>480.010010</td>\n",
              "      <td>426.063446</td>\n",
              "    </tr>\n",
              "    <tr>\n",
              "      <th>2020-04-06</th>\n",
              "      <td>516.239990</td>\n",
              "      <td>454.545715</td>\n",
              "    </tr>\n",
              "    <tr>\n",
              "      <th>2020-04-07</th>\n",
              "      <td>545.450012</td>\n",
              "      <td>489.825317</td>\n",
              "    </tr>\n",
              "    <tr>\n",
              "      <th>2020-04-08</th>\n",
              "      <td>548.840027</td>\n",
              "      <td>515.181335</td>\n",
              "    </tr>\n",
              "    <tr>\n",
              "      <th>2020-04-09</th>\n",
              "      <td>573.000000</td>\n",
              "      <td>513.096252</td>\n",
              "    </tr>\n",
              "  </tbody>\n",
              "</table>\n",
              "<p>315 rows × 2 columns</p>\n",
              "</div>"
            ],
            "text/plain": [
              "                 Close  Predictions\n",
              "Date                               \n",
              "2019-01-10  344.970001   326.161682\n",
              "2019-01-11  347.260010   331.500946\n",
              "2019-01-14  334.399994   333.428070\n",
              "2019-01-15  344.429993   321.772400\n",
              "2019-01-16  346.049988   330.285309\n",
              "...                ...          ...\n",
              "2020-04-03  480.010010   426.063446\n",
              "2020-04-06  516.239990   454.545715\n",
              "2020-04-07  545.450012   489.825317\n",
              "2020-04-08  548.840027   515.181335\n",
              "2020-04-09  573.000000   513.096252\n",
              "\n",
              "[315 rows x 2 columns]"
            ]
          },
          "metadata": {
            "tags": []
          },
          "execution_count": 20
        }
      ]
    },
    {
      "cell_type": "code",
      "metadata": {
        "id": "X_SFL0jC6LoO",
        "colab_type": "code",
        "outputId": "856eab88-7ceb-482f-e978-a207ae8fed3c",
        "colab": {
          "base_uri": "https://localhost:8080/",
          "height": 34
        }
      },
      "source": [
        "#Check the quote\n",
        "apple_quote = web.DataReader('TSLA', data_source='yahoo', start='2012-01-01', end='2019-12-17' )\n",
        "#Create new dataframe\n",
        "new_df = apple_quote.filter(['Close'])\n",
        "#Get the last 60 days of closing  price values and convert the dataframe to an array\n",
        "last_60_days = new_df[-60 : ].values\n",
        "#Scale the data to be values between 0 and 1\n",
        "last_60_days_scaled = scalar.transform(last_60_days)\n",
        "#Create an empty list\n",
        "X_test = []\n",
        "#Append the past 60 days\n",
        "X_test.append(last_60_days_scaled)\n",
        "#Convert the x_test to numpy array\n",
        "X_test = np.array(X_test)\n",
        "#Reshape the data\n",
        "X_test = np.reshape(X_test, (X_test.shape[0], X_test.shape[1], 1))\n",
        "#Get the predicted scaled price\n",
        "pred_price = model.predict(X_test)\n",
        "#Undo scaling\n",
        "pred_price = scalar.inverse_transform(pred_price)\n",
        "print(pred_price)"
      ],
      "execution_count": 0,
      "outputs": [
        {
          "output_type": "stream",
          "text": [
            "[[361.8066]]\n"
          ],
          "name": "stdout"
        }
      ]
    },
    {
      "cell_type": "code",
      "metadata": {
        "id": "MEACgCPy6N5G",
        "colab_type": "code",
        "outputId": "d03faac0-7ae8-4078-df08-0b1bd140d9f8",
        "colab": {
          "base_uri": "https://localhost:8080/",
          "height": 68
        }
      },
      "source": [
        "#Get the actual value\n",
        "apple_quote = web.DataReader('TSLA', data_source='yahoo', start='2019-12-18', end='2019-12-18' )\n",
        "apple_quote['Close']"
      ],
      "execution_count": 0,
      "outputs": [
        {
          "output_type": "execute_result",
          "data": {
            "text/plain": [
              "Date\n",
              "2019-12-18    393.149994\n",
              "Name: Close, dtype: float64"
            ]
          },
          "metadata": {
            "tags": []
          },
          "execution_count": 22
        }
      ]
    }
  ]
}