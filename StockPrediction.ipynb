{
  "nbformat": 4,
  "nbformat_minor": 0,
  "metadata": {
    "colab": {
      "name": "StockPrediction.ipynb",
      "provenance": [],
      "collapsed_sections": [],
      "include_colab_link": true
    },
    "kernelspec": {
      "name": "python3",
      "display_name": "Python 3"
    }
  },
  "cells": [
    {
      "cell_type": "markdown",
      "metadata": {
        "id": "view-in-github",
        "colab_type": "text"
      },
      "source": [
        "<a href=\"https://colab.research.google.com/github/Param-Bhatt/Stock-prediction-ML/blob/master/StockPrediction.ipynb\" target=\"_parent\"><img src=\"https://colab.research.google.com/assets/colab-badge.svg\" alt=\"Open In Colab\"/></a>"
      ]
    },
    {
      "cell_type": "code",
      "metadata": {
        "id": "xDDpe7Y-4nmz",
        "colab_type": "code",
        "colab": {}
      },
      "source": [
        "# This program uses artificial recurrent neural network called Long Short Term Memory (LSTM) to predict the closing stock of a corporation using past 60 day stock price"
      ],
      "execution_count": 0,
      "outputs": []
    },
    {
      "cell_type": "code",
      "metadata": {
        "colab_type": "code",
        "id": "61j5faWA7ou9",
        "colab": {}
      },
      "source": [
        "# Import the libraries\n",
        "import math\n",
        "import pandas_datareader as web\n",
        "import numpy as np\n",
        "import pandas as pd\n",
        "from pandas.util.testing import assert_frame_equal\n",
        "from sklearn.preprocessing import MinMaxScaler\n",
        "from keras.models import Sequential\n",
        "from keras.layers import Dense, LSTM\n",
        "import matplotlib.pyplot as plt\n",
        "plt.style.use('fivethirtyeight')"
      ],
      "execution_count": 0,
      "outputs": []
    },
    {
      "cell_type": "markdown",
      "metadata": {
        "id": "JzQ-5WFSKHY0",
        "colab_type": "text"
      },
      "source": [
        ""
      ]
    },
    {
      "cell_type": "code",
      "metadata": {
        "id": "S9HuFyW57p1I",
        "colab_type": "code",
        "outputId": "3b10435f-8828-4fdf-ac9e-0e0a5f60a517",
        "colab": {
          "base_uri": "https://localhost:8080/",
          "height": 450
        }
      },
      "source": [
        "# Get the stock data\n",
        "df = web.DataReader('MSFT',data_source='yahoo', start='2010-01-01',end='2020-04-10')\n",
        "# Show the data\n",
        "df"
      ],
      "execution_count": 0,
      "outputs": [
        {
          "output_type": "execute_result",
          "data": {
            "text/html": [
              "<div>\n",
              "<style scoped>\n",
              "    .dataframe tbody tr th:only-of-type {\n",
              "        vertical-align: middle;\n",
              "    }\n",
              "\n",
              "    .dataframe tbody tr th {\n",
              "        vertical-align: top;\n",
              "    }\n",
              "\n",
              "    .dataframe thead th {\n",
              "        text-align: right;\n",
              "    }\n",
              "</style>\n",
              "<table border=\"1\" class=\"dataframe\">\n",
              "  <thead>\n",
              "    <tr style=\"text-align: right;\">\n",
              "      <th></th>\n",
              "      <th>High</th>\n",
              "      <th>Low</th>\n",
              "      <th>Open</th>\n",
              "      <th>Close</th>\n",
              "      <th>Volume</th>\n",
              "      <th>Adj Close</th>\n",
              "    </tr>\n",
              "    <tr>\n",
              "      <th>Date</th>\n",
              "      <th></th>\n",
              "      <th></th>\n",
              "      <th></th>\n",
              "      <th></th>\n",
              "      <th></th>\n",
              "      <th></th>\n",
              "    </tr>\n",
              "  </thead>\n",
              "  <tbody>\n",
              "    <tr>\n",
              "      <th>2010-01-04</th>\n",
              "      <td>31.100000</td>\n",
              "      <td>30.590000</td>\n",
              "      <td>30.620001</td>\n",
              "      <td>30.950001</td>\n",
              "      <td>38409100.0</td>\n",
              "      <td>24.294369</td>\n",
              "    </tr>\n",
              "    <tr>\n",
              "      <th>2010-01-05</th>\n",
              "      <td>31.100000</td>\n",
              "      <td>30.639999</td>\n",
              "      <td>30.850000</td>\n",
              "      <td>30.959999</td>\n",
              "      <td>49749600.0</td>\n",
              "      <td>24.302216</td>\n",
              "    </tr>\n",
              "    <tr>\n",
              "      <th>2010-01-06</th>\n",
              "      <td>31.080000</td>\n",
              "      <td>30.520000</td>\n",
              "      <td>30.879999</td>\n",
              "      <td>30.770000</td>\n",
              "      <td>58182400.0</td>\n",
              "      <td>24.153070</td>\n",
              "    </tr>\n",
              "    <tr>\n",
              "      <th>2010-01-07</th>\n",
              "      <td>30.700001</td>\n",
              "      <td>30.190001</td>\n",
              "      <td>30.629999</td>\n",
              "      <td>30.450001</td>\n",
              "      <td>50559700.0</td>\n",
              "      <td>23.901886</td>\n",
              "    </tr>\n",
              "    <tr>\n",
              "      <th>2010-01-08</th>\n",
              "      <td>30.879999</td>\n",
              "      <td>30.240000</td>\n",
              "      <td>30.280001</td>\n",
              "      <td>30.660000</td>\n",
              "      <td>51197400.0</td>\n",
              "      <td>24.066734</td>\n",
              "    </tr>\n",
              "    <tr>\n",
              "      <th>...</th>\n",
              "      <td>...</td>\n",
              "      <td>...</td>\n",
              "      <td>...</td>\n",
              "      <td>...</td>\n",
              "      <td>...</td>\n",
              "      <td>...</td>\n",
              "    </tr>\n",
              "    <tr>\n",
              "      <th>2020-04-03</th>\n",
              "      <td>157.380005</td>\n",
              "      <td>152.190002</td>\n",
              "      <td>155.100006</td>\n",
              "      <td>153.830002</td>\n",
              "      <td>41243300.0</td>\n",
              "      <td>153.830002</td>\n",
              "    </tr>\n",
              "    <tr>\n",
              "      <th>2020-04-06</th>\n",
              "      <td>166.500000</td>\n",
              "      <td>157.580002</td>\n",
              "      <td>160.320007</td>\n",
              "      <td>165.270004</td>\n",
              "      <td>67111700.0</td>\n",
              "      <td>165.270004</td>\n",
              "    </tr>\n",
              "    <tr>\n",
              "      <th>2020-04-07</th>\n",
              "      <td>170.000000</td>\n",
              "      <td>163.259995</td>\n",
              "      <td>169.589996</td>\n",
              "      <td>163.490005</td>\n",
              "      <td>62769000.0</td>\n",
              "      <td>163.490005</td>\n",
              "    </tr>\n",
              "    <tr>\n",
              "      <th>2020-04-08</th>\n",
              "      <td>166.669998</td>\n",
              "      <td>163.500000</td>\n",
              "      <td>165.669998</td>\n",
              "      <td>165.130005</td>\n",
              "      <td>48318200.0</td>\n",
              "      <td>165.130005</td>\n",
              "    </tr>\n",
              "    <tr>\n",
              "      <th>2020-04-09</th>\n",
              "      <td>167.369995</td>\n",
              "      <td>163.330002</td>\n",
              "      <td>166.360001</td>\n",
              "      <td>165.139999</td>\n",
              "      <td>51431800.0</td>\n",
              "      <td>165.139999</td>\n",
              "    </tr>\n",
              "  </tbody>\n",
              "</table>\n",
              "<p>2585 rows × 6 columns</p>\n",
              "</div>"
            ],
            "text/plain": [
              "                  High         Low  ...      Volume   Adj Close\n",
              "Date                                ...                        \n",
              "2010-01-04   31.100000   30.590000  ...  38409100.0   24.294369\n",
              "2010-01-05   31.100000   30.639999  ...  49749600.0   24.302216\n",
              "2010-01-06   31.080000   30.520000  ...  58182400.0   24.153070\n",
              "2010-01-07   30.700001   30.190001  ...  50559700.0   23.901886\n",
              "2010-01-08   30.879999   30.240000  ...  51197400.0   24.066734\n",
              "...                ...         ...  ...         ...         ...\n",
              "2020-04-03  157.380005  152.190002  ...  41243300.0  153.830002\n",
              "2020-04-06  166.500000  157.580002  ...  67111700.0  165.270004\n",
              "2020-04-07  170.000000  163.259995  ...  62769000.0  163.490005\n",
              "2020-04-08  166.669998  163.500000  ...  48318200.0  165.130005\n",
              "2020-04-09  167.369995  163.330002  ...  51431800.0  165.139999\n",
              "\n",
              "[2585 rows x 6 columns]"
            ]
          },
          "metadata": {
            "tags": []
          },
          "execution_count": 210
        }
      ]
    },
    {
      "cell_type": "code",
      "metadata": {
        "id": "PikSo1fM85S-",
        "colab_type": "code",
        "outputId": "b3cb09f8-5646-4945-fca1-6600a58ac26b",
        "colab": {
          "base_uri": "https://localhost:8080/",
          "height": 34
        }
      },
      "source": [
        "df.shape"
      ],
      "execution_count": 0,
      "outputs": [
        {
          "output_type": "execute_result",
          "data": {
            "text/plain": [
              "(2585, 6)"
            ]
          },
          "metadata": {
            "tags": []
          },
          "execution_count": 211
        }
      ]
    },
    {
      "cell_type": "code",
      "metadata": {
        "id": "1RYngDbC89hO",
        "colab_type": "code",
        "outputId": "2641e93d-7590-4262-aa6f-dad7c05da17a",
        "colab": {
          "base_uri": "https://localhost:8080/",
          "height": 575
        }
      },
      "source": [
        "#Visualize closing price history\n",
        "plt.figure(figsize=(16,8))\n",
        "plt.title('Close Price History')\n",
        "plt.plot(df['Close']  )\n",
        "plt.xlabel('Date', fontsize = 18)\n",
        "plt.ylabel('Close Price USD $', fontsize = 18)"
      ],
      "execution_count": 0,
      "outputs": [
        {
          "output_type": "execute_result",
          "data": {
            "text/plain": [
              "Text(0, 0.5, 'Close Price USD $')"
            ]
          },
          "metadata": {
            "tags": []
          },
          "execution_count": 212
        },
        {
          "output_type": "display_data",
          "data": {
            "image/png": "[encoded data removed]",
            "text/plain": [
              "<Figure size 1152x576 with 1 Axes>"
            ]
          },
          "metadata": {
            "tags": []
          }
        }
      ]
    },
    {
      "cell_type": "code",
      "metadata": {
        "id": "4VX3tZd--fK6",
        "colab_type": "code",
        "outputId": "328d729f-b10e-4760-f9d6-b36a5b0b5a2b",
        "colab": {
          "base_uri": "https://localhost:8080/",
          "height": 34
        }
      },
      "source": [
        "#Create a new dataframe with only the close column\n",
        "data = df.filter(['Close'])\n",
        "#Convert the dataframe to numpy array\n",
        "dataset = data.values\n",
        "#Get the number of rows to train the model on\n",
        "training_data_len = math.ceil(len(dataset) * 0.8)\n",
        "training_data_len"
      ],
      "execution_count": 0,
      "outputs": [
        {
          "output_type": "execute_result",
          "data": {
            "text/plain": [
              "2068"
            ]
          },
          "metadata": {
            "tags": []
          },
          "execution_count": 213
        }
      ]
    },
    {
      "cell_type": "code",
      "metadata": {
        "colab_type": "code",
        "outputId": "8748649d-dea2-4a8a-cbb9-4ea9a7f6e238",
        "id": "fTPyClyWCMcZ",
        "colab": {
          "base_uri": "https://localhost:8080/",
          "height": 136
        }
      },
      "source": [
        "#Scale the data (Preprocessing)\n",
        "scalar = MinMaxScaler(feature_range=(0, 1))\n",
        "scaled_data = scalar.fit_transform(dataset)\n",
        "scaled_data "
      ],
      "execution_count": 0,
      "outputs": [
        {
          "output_type": "execute_result",
          "data": {
            "text/plain": [
              "array([[0.04792082],\n",
              "       [0.04798116],\n",
              "       [0.04683445],\n",
              "       ...,\n",
              "       [0.84784844],\n",
              "       [0.85774644],\n",
              "       [0.85780676]])"
            ]
          },
          "metadata": {
            "tags": []
          },
          "execution_count": 214
        }
      ]
    },
    {
      "cell_type": "code",
      "metadata": {
        "id": "TkQwf1MSCQUp",
        "colab_type": "code",
        "colab": {}
      },
      "source": [
        "#Create the training data set \n",
        "#Create the Scaled training dataset\n",
        "train_data = scaled_data[0:training_data_len, :]\n",
        "#Split the dataset into xtrain and ytrain\n",
        "x_train = []\n",
        "y_train = []\n",
        "for i in range(180, len(train_data)):\n",
        "  x_train.append(train_data[i-180:i, 0])\n",
        "  y_train.append(train_data[i, 0]) "
      ],
      "execution_count": 0,
      "outputs": []
    },
    {
      "cell_type": "code",
      "metadata": {
        "id": "uJK-PXTQGc1_",
        "colab_type": "code",
        "outputId": "8512f68a-9b9d-49e1-a52a-cbf309435bef",
        "colab": {
          "base_uri": "https://localhost:8080/",
          "height": 180
        }
      },
      "source": [
        "#Convert the x_train and y_train to numpy arrays \n",
        "x_train, y_train = np.array(x_train), np.array(y_train)\n",
        "x_train"
      ],
      "execution_count": 0,
      "outputs": [
        {
          "output_type": "error",
          "ename": "NameError",
          "evalue": "ignored",
          "traceback": [
            "\u001b[0;31m---------------------------------------------------------------------------\u001b[0m",
            "\u001b[0;31mNameError\u001b[0m                                 Traceback (most recent call last)",
            "\u001b[0;32m<ipython-input-1-bc136599c05d>\u001b[0m in \u001b[0;36m<module>\u001b[0;34m()\u001b[0m\n\u001b[0;32m----> 1\u001b[0;31m \u001b[0mx_train\u001b[0m\u001b[0;34m,\u001b[0m \u001b[0my_train\u001b[0m \u001b[0;34m=\u001b[0m \u001b[0mnp\u001b[0m\u001b[0;34m.\u001b[0m\u001b[0marray\u001b[0m\u001b[0;34m(\u001b[0m\u001b[0mx_train\u001b[0m\u001b[0;34m)\u001b[0m\u001b[0;34m,\u001b[0m \u001b[0mnp\u001b[0m\u001b[0;34m.\u001b[0m\u001b[0marray\u001b[0m\u001b[0;34m(\u001b[0m\u001b[0my_train\u001b[0m\u001b[0;34m)\u001b[0m\u001b[0;34m\u001b[0m\u001b[0;34m\u001b[0m\u001b[0m\n\u001b[0m\u001b[1;32m      2\u001b[0m \u001b[0mx_train\u001b[0m\u001b[0;34m\u001b[0m\u001b[0;34m\u001b[0m\u001b[0m\n",
            "\u001b[0;31mNameError\u001b[0m: name 'np' is not defined"
          ]
        }
      ]
    },
    {
      "cell_type": "code",
      "metadata": {
        "colab_type": "code",
        "outputId": "70f980da-cb3e-4823-86c0-b3b218399720",
        "id": "S_DBVWN2OEDt",
        "colab": {
          "base_uri": "https://localhost:8080/",
          "height": 34
        }
      },
      "source": [
        "#reshape the xtrain dataset to 3D as LSTM model takes input as a form of [number of samples, number of times steps, number of features]\n",
        "x_train = np.reshape(x_train, (x_train.shape[0], x_train.shape[1], 1))\n",
        "x_train.shape"
      ],
      "execution_count": 0,
      "outputs": [
        {
          "output_type": "execute_result",
          "data": {
            "text/plain": [
              "(1888, 180, 1)"
            ]
          },
          "metadata": {
            "tags": []
          },
          "execution_count": 217
        }
      ]
    },
    {
      "cell_type": "code",
      "metadata": {
        "id": "D8ydLWfGOEcz",
        "colab_type": "code",
        "colab": {}
      },
      "source": [
        "#Build the LSTM Model\n",
        "model = Sequential()\n",
        "model.add(LSTM(50, return_sequences=True, input_shape = (x_train.shape[1], 1) ))\n",
        "model.add(LSTM(50, return_sequences=False))\n",
        "model.add(Dense(25))\n",
        "model.add(Dense(1))"
      ],
      "execution_count": 0,
      "outputs": []
    },
    {
      "cell_type": "code",
      "metadata": {
        "colab_type": "code",
        "id": "rSilPgMIif_F",
        "colab": {}
      },
      "source": [
        "#Compile the model\n",
        "model.compile(optimizer = 'adam',loss = 'mean_squared_error')"
      ],
      "execution_count": 0,
      "outputs": []
    },
    {
      "cell_type": "code",
      "metadata": {
        "id": "RZ9CEsYoigWf",
        "colab_type": "code",
        "outputId": "d692ee25-5f91-4b4f-c9b0-23e0de3ffea4",
        "colab": {
          "base_uri": "https://localhost:8080/",
          "height": 204
        }
      },
      "source": [
        "#Train the model\n",
        "model.fit(x_train, y_train, batch_size=1, epochs=5, verbose=1)"
      ],
      "execution_count": 0,
      "outputs": [
        {
          "output_type": "stream",
          "text": [
            "Epoch 1/5\n",
            "1888/1888 [==============================] - 194s 103ms/step - loss: 2.1251e-04\n",
            "Epoch 2/5\n",
            "1888/1888 [==============================] - 195s 103ms/step - loss: 1.2334e-04\n",
            "Epoch 3/5\n",
            "1888/1888 [==============================] - 196s 104ms/step - loss: 1.1376e-04\n",
            "Epoch 4/5\n",
            "1888/1888 [==============================] - 196s 104ms/step - loss: 6.6495e-05\n",
            "Epoch 5/5\n",
            "1888/1888 [==============================] - 195s 103ms/step - loss: 6.3710e-05\n"
          ],
          "name": "stdout"
        },
        {
          "output_type": "execute_result",
          "data": {
            "text/plain": [
              "<keras.callbacks.callbacks.History at 0x7f5dd4011208>"
            ]
          },
          "metadata": {
            "tags": []
          },
          "execution_count": 220
        }
      ]
    },
    {
      "cell_type": "code",
      "metadata": {
        "id": "Fqa0tRZvjYMh",
        "colab_type": "code",
        "colab": {}
      },
      "source": [
        "#Create the testing dataset \n",
        "#Create the new array containing the scaled values from index 3620 to \n",
        "test_data = scaled_data[training_data_len - 180: , :]\n",
        "#Create the datasets x_test and y_test\n",
        "x_test = []\n",
        "y_test = dataset[training_data_len : , : ]\n",
        "for i in range(180, len(test_data)):\n",
        "  x_test.append(test_data[i-180 : i, 0])"
      ],
      "execution_count": 0,
      "outputs": []
    },
    {
      "cell_type": "code",
      "metadata": {
        "id": "OU5PHlgMlN3p",
        "colab_type": "code",
        "colab": {}
      },
      "source": [
        "#Convert the data into the numpy array\n",
        "x_test = np.array(x_test)"
      ],
      "execution_count": 0,
      "outputs": []
    },
    {
      "cell_type": "code",
      "metadata": {
        "id": "uvBMwynKloMZ",
        "colab_type": "code",
        "outputId": "89b84483-e5a2-4ac7-de1a-e103bd26c29e",
        "colab": {
          "base_uri": "https://localhost:8080/",
          "height": 34
        }
      },
      "source": [
        "#Reshape the data\n",
        "x_test = np.reshape(x_test, (x_test.shape[0], x_test.shape[1], 1))\n",
        "x_test.shape"
      ],
      "execution_count": 0,
      "outputs": [
        {
          "output_type": "execute_result",
          "data": {
            "text/plain": [
              "(517, 180, 1)"
            ]
          },
          "metadata": {
            "tags": []
          },
          "execution_count": 228
        }
      ]
    },
    {
      "cell_type": "code",
      "metadata": {
        "id": "SLJE8dEamLCZ",
        "colab_type": "code",
        "colab": {}
      },
      "source": [
        "#Get the models to predict values\n",
        "predictions = model.predict(x_test)\n",
        "predictions = scalar.inverse_transform(predictions)"
      ],
      "execution_count": 0,
      "outputs": []
    },
    {
      "cell_type": "code",
      "metadata": {
        "id": "_eeKZ8pama5Y",
        "colab_type": "code",
        "outputId": "b0ed227f-99f2-456d-ee49-b84197b7b037",
        "colab": {
          "base_uri": "https://localhost:8080/",
          "height": 34
        }
      },
      "source": [
        "#Get the RMSE\n",
        "rmse = np.sqrt(np.mean((predictions - y_test)**2))\n",
        "rmse"
      ],
      "execution_count": 0,
      "outputs": [
        {
          "output_type": "execute_result",
          "data": {
            "text/plain": [
              "3.0723795388426276"
            ]
          },
          "metadata": {
            "tags": []
          },
          "execution_count": 230
        }
      ]
    },
    {
      "cell_type": "code",
      "metadata": {
        "id": "sIzxGmkGm9oH",
        "colab_type": "code",
        "outputId": "aa481a75-2f47-420a-c7e2-3bb7062b24e9",
        "colab": {
          "base_uri": "https://localhost:8080/",
          "height": 660
        }
      },
      "source": [
        "#Plot the data\n",
        "train = data[:training_data_len]\n",
        "valid = data[training_data_len : ]\n",
        "valid['Predictions'] = predictions\n",
        "#Visualize the data\n",
        "plt.figure(figsize=(16,8))\n",
        "plt.title('Microsoft (MSFT)')\n",
        "plt.xlabel('Date', fontsize=18)\n",
        "plt.ylabel('Closing price in $', fontsize=18)\n",
        "plt.plot(train['Close'])\n",
        "plt.plot(valid[['Close','Predictions']])\n",
        "plt.legend(['Train', 'Actual', 'Predictions'], loc='lower right')\n",
        "plt.show()"
      ],
      "execution_count": 0,
      "outputs": [
        {
          "output_type": "stream",
          "text": [
            "/usr/local/lib/python3.6/dist-packages/ipykernel_launcher.py:3: SettingWithCopyWarning: \n",
            "A value is trying to be set on a copy of a slice from a DataFrame.\n",
            "Try using .loc[row_indexer,col_indexer] = value instead\n",
            "\n",
            "See the caveats in the documentation: https://pandas.pydata.org/pandas-docs/stable/user_guide/indexing.html#returning-a-view-versus-a-copy\n",
            "  This is separate from the ipykernel package so we can avoid doing imports until\n"
          ],
          "name": "stderr"
        },
        {
          "output_type": "display_data",
          "data": {
            "image/png": "[encoded data removed]",
            "text/plain": [
              "<Figure size 1152x576 with 1 Axes>"
            ]
          },
          "metadata": {
            "tags": []
          }
        }
      ]
    },
    {
      "cell_type": "code",
      "metadata": {
        "id": "Qy0z8PV_oxs2",
        "colab_type": "code",
        "outputId": "0061ddff-8c57-47f5-eea4-56e630e35ed4",
        "colab": {
          "base_uri": "https://localhost:8080/",
          "height": 1000
        }
      },
      "source": [
        "#Show the valid and predicted value\n",
        "valid[400:450]"
      ],
      "execution_count": 0,
      "outputs": [
        {
          "output_type": "execute_result",
          "data": {
            "text/html": [
              "<div>\n",
              "<style scoped>\n",
              "    .dataframe tbody tr th:only-of-type {\n",
              "        vertical-align: middle;\n",
              "    }\n",
              "\n",
              "    .dataframe tbody tr th {\n",
              "        vertical-align: top;\n",
              "    }\n",
              "\n",
              "    .dataframe thead th {\n",
              "        text-align: right;\n",
              "    }\n",
              "</style>\n",
              "<table border=\"1\" class=\"dataframe\">\n",
              "  <thead>\n",
              "    <tr style=\"text-align: right;\">\n",
              "      <th></th>\n",
              "      <th>Close</th>\n",
              "      <th>Predictions</th>\n",
              "    </tr>\n",
              "    <tr>\n",
              "      <th>Date</th>\n",
              "      <th></th>\n",
              "      <th></th>\n",
              "    </tr>\n",
              "  </thead>\n",
              "  <tbody>\n",
              "    <tr>\n",
              "      <th>2019-10-23</th>\n",
              "      <td>137.240005</td>\n",
              "      <td>137.048477</td>\n",
              "    </tr>\n",
              "    <tr>\n",
              "      <th>2019-10-24</th>\n",
              "      <td>139.940002</td>\n",
              "      <td>137.426758</td>\n",
              "    </tr>\n",
              "    <tr>\n",
              "      <th>2019-10-25</th>\n",
              "      <td>140.729996</td>\n",
              "      <td>139.531357</td>\n",
              "    </tr>\n",
              "    <tr>\n",
              "      <th>2019-10-28</th>\n",
              "      <td>144.190002</td>\n",
              "      <td>140.704681</td>\n",
              "    </tr>\n",
              "    <tr>\n",
              "      <th>2019-10-29</th>\n",
              "      <td>142.830002</td>\n",
              "      <td>143.180054</td>\n",
              "    </tr>\n",
              "    <tr>\n",
              "      <th>2019-10-30</th>\n",
              "      <td>144.610001</td>\n",
              "      <td>142.736542</td>\n",
              "    </tr>\n",
              "    <tr>\n",
              "      <th>2019-10-31</th>\n",
              "      <td>143.369995</td>\n",
              "      <td>143.471176</td>\n",
              "    </tr>\n",
              "    <tr>\n",
              "      <th>2019-11-01</th>\n",
              "      <td>143.720001</td>\n",
              "      <td>142.749329</td>\n",
              "    </tr>\n",
              "    <tr>\n",
              "      <th>2019-11-04</th>\n",
              "      <td>144.550003</td>\n",
              "      <td>142.708832</td>\n",
              "    </tr>\n",
              "    <tr>\n",
              "      <th>2019-11-05</th>\n",
              "      <td>144.460007</td>\n",
              "      <td>143.357040</td>\n",
              "    </tr>\n",
              "    <tr>\n",
              "      <th>2019-11-06</th>\n",
              "      <td>144.059998</td>\n",
              "      <td>143.583466</td>\n",
              "    </tr>\n",
              "    <tr>\n",
              "      <th>2019-11-07</th>\n",
              "      <td>144.259995</td>\n",
              "      <td>143.408066</td>\n",
              "    </tr>\n",
              "    <tr>\n",
              "      <th>2019-11-08</th>\n",
              "      <td>145.960007</td>\n",
              "      <td>143.532471</td>\n",
              "    </tr>\n",
              "    <tr>\n",
              "      <th>2019-11-11</th>\n",
              "      <td>146.110001</td>\n",
              "      <td>144.800995</td>\n",
              "    </tr>\n",
              "    <tr>\n",
              "      <th>2019-11-12</th>\n",
              "      <td>147.070007</td>\n",
              "      <td>145.316223</td>\n",
              "    </tr>\n",
              "    <tr>\n",
              "      <th>2019-11-13</th>\n",
              "      <td>147.309998</td>\n",
              "      <td>146.039261</td>\n",
              "    </tr>\n",
              "    <tr>\n",
              "      <th>2019-11-14</th>\n",
              "      <td>148.059998</td>\n",
              "      <td>146.346207</td>\n",
              "    </tr>\n",
              "    <tr>\n",
              "      <th>2019-11-15</th>\n",
              "      <td>149.970001</td>\n",
              "      <td>146.872025</td>\n",
              "    </tr>\n",
              "    <tr>\n",
              "      <th>2019-11-18</th>\n",
              "      <td>150.339996</td>\n",
              "      <td>148.290314</td>\n",
              "    </tr>\n",
              "    <tr>\n",
              "      <th>2019-11-19</th>\n",
              "      <td>150.389999</td>\n",
              "      <td>148.906250</td>\n",
              "    </tr>\n",
              "    <tr>\n",
              "      <th>2019-11-20</th>\n",
              "      <td>149.619995</td>\n",
              "      <td>148.995453</td>\n",
              "    </tr>\n",
              "    <tr>\n",
              "      <th>2019-11-21</th>\n",
              "      <td>149.479996</td>\n",
              "      <td>148.427216</td>\n",
              "    </tr>\n",
              "    <tr>\n",
              "      <th>2019-11-22</th>\n",
              "      <td>149.589996</td>\n",
              "      <td>148.185638</td>\n",
              "    </tr>\n",
              "    <tr>\n",
              "      <th>2019-11-25</th>\n",
              "      <td>151.229996</td>\n",
              "      <td>148.307220</td>\n",
              "    </tr>\n",
              "    <tr>\n",
              "      <th>2019-11-26</th>\n",
              "      <td>152.029999</td>\n",
              "      <td>149.582504</td>\n",
              "    </tr>\n",
              "    <tr>\n",
              "      <th>2019-11-27</th>\n",
              "      <td>152.320007</td>\n",
              "      <td>150.562363</td>\n",
              "    </tr>\n",
              "    <tr>\n",
              "      <th>2019-11-29</th>\n",
              "      <td>151.380005</td>\n",
              "      <td>150.970261</td>\n",
              "    </tr>\n",
              "    <tr>\n",
              "      <th>2019-12-02</th>\n",
              "      <td>149.550003</td>\n",
              "      <td>150.343979</td>\n",
              "    </tr>\n",
              "    <tr>\n",
              "      <th>2019-12-03</th>\n",
              "      <td>149.309998</td>\n",
              "      <td>148.869537</td>\n",
              "    </tr>\n",
              "    <tr>\n",
              "      <th>2019-12-04</th>\n",
              "      <td>149.850006</td>\n",
              "      <td>148.367050</td>\n",
              "    </tr>\n",
              "    <tr>\n",
              "      <th>2019-12-05</th>\n",
              "      <td>149.929993</td>\n",
              "      <td>148.802856</td>\n",
              "    </tr>\n",
              "    <tr>\n",
              "      <th>2019-12-06</th>\n",
              "      <td>151.750000</td>\n",
              "      <td>149.141983</td>\n",
              "    </tr>\n",
              "    <tr>\n",
              "      <th>2019-12-09</th>\n",
              "      <td>151.360001</td>\n",
              "      <td>150.515259</td>\n",
              "    </tr>\n",
              "    <tr>\n",
              "      <th>2019-12-10</th>\n",
              "      <td>151.130005</td>\n",
              "      <td>150.607910</td>\n",
              "    </tr>\n",
              "    <tr>\n",
              "      <th>2019-12-11</th>\n",
              "      <td>151.699997</td>\n",
              "      <td>150.326004</td>\n",
              "    </tr>\n",
              "    <tr>\n",
              "      <th>2019-12-12</th>\n",
              "      <td>153.240005</td>\n",
              "      <td>150.556168</td>\n",
              "    </tr>\n",
              "    <tr>\n",
              "      <th>2019-12-13</th>\n",
              "      <td>154.529999</td>\n",
              "      <td>151.664230</td>\n",
              "    </tr>\n",
              "    <tr>\n",
              "      <th>2019-12-16</th>\n",
              "      <td>155.529999</td>\n",
              "      <td>152.829315</td>\n",
              "    </tr>\n",
              "    <tr>\n",
              "      <th>2019-12-17</th>\n",
              "      <td>154.690002</td>\n",
              "      <td>153.722366</td>\n",
              "    </tr>\n",
              "    <tr>\n",
              "      <th>2019-12-18</th>\n",
              "      <td>154.369995</td>\n",
              "      <td>153.246979</td>\n",
              "    </tr>\n",
              "    <tr>\n",
              "      <th>2019-12-19</th>\n",
              "      <td>155.710007</td>\n",
              "      <td>152.775986</td>\n",
              "    </tr>\n",
              "    <tr>\n",
              "      <th>2019-12-20</th>\n",
              "      <td>157.410004</td>\n",
              "      <td>153.589828</td>\n",
              "    </tr>\n",
              "    <tr>\n",
              "      <th>2019-12-23</th>\n",
              "      <td>157.410004</td>\n",
              "      <td>155.069550</td>\n",
              "    </tr>\n",
              "    <tr>\n",
              "      <th>2019-12-24</th>\n",
              "      <td>157.380005</td>\n",
              "      <td>155.471451</td>\n",
              "    </tr>\n",
              "    <tr>\n",
              "      <th>2019-12-26</th>\n",
              "      <td>158.669998</td>\n",
              "      <td>155.453629</td>\n",
              "    </tr>\n",
              "    <tr>\n",
              "      <th>2019-12-27</th>\n",
              "      <td>158.960007</td>\n",
              "      <td>156.279388</td>\n",
              "    </tr>\n",
              "    <tr>\n",
              "      <th>2019-12-30</th>\n",
              "      <td>157.589996</td>\n",
              "      <td>156.716705</td>\n",
              "    </tr>\n",
              "    <tr>\n",
              "      <th>2019-12-31</th>\n",
              "      <td>157.699997</td>\n",
              "      <td>155.870438</td>\n",
              "    </tr>\n",
              "    <tr>\n",
              "      <th>2020-01-02</th>\n",
              "      <td>160.619995</td>\n",
              "      <td>155.708664</td>\n",
              "    </tr>\n",
              "    <tr>\n",
              "      <th>2020-01-03</th>\n",
              "      <td>158.619995</td>\n",
              "      <td>157.776535</td>\n",
              "    </tr>\n",
              "  </tbody>\n",
              "</table>\n",
              "</div>"
            ],
            "text/plain": [
              "                 Close  Predictions\n",
              "Date                               \n",
              "2019-10-23  137.240005   137.048477\n",
              "2019-10-24  139.940002   137.426758\n",
              "2019-10-25  140.729996   139.531357\n",
              "2019-10-28  144.190002   140.704681\n",
              "2019-10-29  142.830002   143.180054\n",
              "2019-10-30  144.610001   142.736542\n",
              "2019-10-31  143.369995   143.471176\n",
              "2019-11-01  143.720001   142.749329\n",
              "2019-11-04  144.550003   142.708832\n",
              "2019-11-05  144.460007   143.357040\n",
              "2019-11-06  144.059998   143.583466\n",
              "2019-11-07  144.259995   143.408066\n",
              "2019-11-08  145.960007   143.532471\n",
              "2019-11-11  146.110001   144.800995\n",
              "2019-11-12  147.070007   145.316223\n",
              "2019-11-13  147.309998   146.039261\n",
              "2019-11-14  148.059998   146.346207\n",
              "2019-11-15  149.970001   146.872025\n",
              "2019-11-18  150.339996   148.290314\n",
              "2019-11-19  150.389999   148.906250\n",
              "2019-11-20  149.619995   148.995453\n",
              "2019-11-21  149.479996   148.427216\n",
              "2019-11-22  149.589996   148.185638\n",
              "2019-11-25  151.229996   148.307220\n",
              "2019-11-26  152.029999   149.582504\n",
              "2019-11-27  152.320007   150.562363\n",
              "2019-11-29  151.380005   150.970261\n",
              "2019-12-02  149.550003   150.343979\n",
              "2019-12-03  149.309998   148.869537\n",
              "2019-12-04  149.850006   148.367050\n",
              "2019-12-05  149.929993   148.802856\n",
              "2019-12-06  151.750000   149.141983\n",
              "2019-12-09  151.360001   150.515259\n",
              "2019-12-10  151.130005   150.607910\n",
              "2019-12-11  151.699997   150.326004\n",
              "2019-12-12  153.240005   150.556168\n",
              "2019-12-13  154.529999   151.664230\n",
              "2019-12-16  155.529999   152.829315\n",
              "2019-12-17  154.690002   153.722366\n",
              "2019-12-18  154.369995   153.246979\n",
              "2019-12-19  155.710007   152.775986\n",
              "2019-12-20  157.410004   153.589828\n",
              "2019-12-23  157.410004   155.069550\n",
              "2019-12-24  157.380005   155.471451\n",
              "2019-12-26  158.669998   155.453629\n",
              "2019-12-27  158.960007   156.279388\n",
              "2019-12-30  157.589996   156.716705\n",
              "2019-12-31  157.699997   155.870438\n",
              "2020-01-02  160.619995   155.708664\n",
              "2020-01-03  158.619995   157.776535"
            ]
          },
          "metadata": {
            "tags": []
          },
          "execution_count": 236
        }
      ]
    },
    {
      "cell_type": "code",
      "metadata": {
        "id": "lqRrihdTVuu5",
        "colab_type": "code",
        "colab": {}
      },
      "source": [
        ""
      ],
      "execution_count": 0,
      "outputs": []
    },
    {
      "cell_type": "code",
      "metadata": {
        "id": "Mol9ObwBo_IN",
        "colab_type": "code",
        "outputId": "fb4c1815-4065-4bc2-8ac7-b303804a511e",
        "colab": {
          "base_uri": "https://localhost:8080/",
          "height": 34
        }
      },
      "source": [
        "#Check the quote\n",
        "apple_quote = web.DataReader('AAPL', data_source='yahoo', start='2012-01-01', end='2019-12-17' )\n",
        "#Create new dataframe\n",
        "new_df = apple_quote.filter(['Close'])\n",
        "#Get the last 60 days of closing  price values and convert the dataframe to an array\n",
        "last_60_days = new_df[-180 : ].values\n",
        "#Scale the data to be values between 0 and 1\n",
        "last_60_days_scaled = scalar.transform(last_60_days)\n",
        "#Create an empty list\n",
        "X_test = []\n",
        "#Append the past 60 days\n",
        "X_test.append(last_60_days_scaled)\n",
        "#Convert the x_test to numpy array\n",
        "X_test = np.array(X_test)\n",
        "#Reshape the data\n",
        "X_test = np.reshape(X_test, (X_test.shape[0], X_test.shape[1], 1))\n",
        "#Get the predicted scaled price\n",
        "pred_price = model.predict(X_test)\n",
        "#Undo scaling\n",
        "pred_price = scalar.inverse_transform(pred_price)\n",
        "print(pred_price)"
      ],
      "execution_count": 0,
      "outputs": [
        {
          "output_type": "stream",
          "text": [
            "[[252.16122]]\n"
          ],
          "name": "stdout"
        }
      ]
    },
    {
      "cell_type": "code",
      "metadata": {
        "id": "PbNdjcqprrL5",
        "colab_type": "code",
        "outputId": "6e970840-4f7b-4a14-be40-4a23f6cfec04",
        "colab": {
          "base_uri": "https://localhost:8080/",
          "height": 68
        }
      },
      "source": [
        "#Get the actual value\n",
        "apple_quote = web.DataReader('AAPL', data_source='yahoo', start='2019-12-18', end='2019-12-18' )\n",
        "apple_quote['Close']"
      ],
      "execution_count": 0,
      "outputs": [
        {
          "output_type": "execute_result",
          "data": {
            "text/plain": [
              "Date\n",
              "2019-12-18    279.73999\n",
              "Name: Close, dtype: float64"
            ]
          },
          "metadata": {
            "tags": []
          },
          "execution_count": 208
        }
      ]
    }
  ]
}