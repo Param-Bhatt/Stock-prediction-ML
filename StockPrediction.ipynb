{
  "nbformat": 4,
  "nbformat_minor": 0,
  "metadata": {
    "colab": {
      "name": "StockPrediction.ipynb",
      "provenance": [],
      "collapsed_sections": [],
      "include_colab_link": true
    },
    "kernelspec": {
      "name": "python3",
      "display_name": "Python 3"
    }
  },
  "cells": [
    {
      "cell_type": "markdown",
      "metadata": {
        "id": "view-in-github",
        "colab_type": "text"
      },
      "source": [
        "<a href=\"https://colab.research.google.com/github/Param-Bhatt/Stock-prediction-ML/blob/apple/StockPrediction.ipynb\" target=\"_parent\"><img src=\"https://colab.research.google.com/assets/colab-badge.svg\" alt=\"Open In Colab\"/></a>"
      ]
    },
    {
      "cell_type": "code",
      "metadata": {
        "id": "xDDpe7Y-4nmz",
        "colab_type": "code",
        "colab": {}
      },
      "source": [
        "# This program uses artificial recurrent neural network called Long Short Term Memory (LSTM) to predict the closing stock of a corporation using past 60 day stock price"
      ],
      "execution_count": 0,
      "outputs": []
    },
    {
      "cell_type": "code",
      "metadata": {
        "colab_type": "code",
        "id": "61j5faWA7ou9",
        "outputId": "db611a3c-63f8-448f-8eff-d1da70c7d825",
        "colab": {
          "base_uri": "https://localhost:8080/",
          "height": 68
        }
      },
      "source": [
        "# Import the libraries\n",
        "import math\n",
        "import pandas_datareader as web\n",
        "import numpy as np\n",
        "import pandas as pd\n",
        "from pandas.util.testing import assert_frame_equal\n",
        "from sklearn.preprocessing import MinMaxScaler\n",
        "from keras.models import Sequential\n",
        "from keras.layers import Dense, LSTM\n",
        "import matplotlib.pyplot as plt\n",
        "plt.style.use('fivethirtyeight')"
      ],
      "execution_count": 0,
      "outputs": [
        {
          "output_type": "stream",
          "text": [
            "/usr/local/lib/python3.6/dist-packages/pandas_datareader/compat/__init__.py:7: FutureWarning: pandas.util.testing is deprecated. Use the functions in the public API at pandas.testing instead.\n",
            "  from pandas.util.testing import assert_frame_equal\n",
            "Using TensorFlow backend.\n"
          ],
          "name": "stderr"
        }
      ]
    },
    {
      "cell_type": "markdown",
      "metadata": {
        "id": "JzQ-5WFSKHY0",
        "colab_type": "text"
      },
      "source": [
        ""
      ]
    },
    {
      "cell_type": "code",
      "metadata": {
        "id": "S9HuFyW57p1I",
        "colab_type": "code",
        "outputId": "636675b0-1176-4d04-b88e-e904a92007cc",
        "colab": {
          "base_uri": "https://localhost:8080/",
          "height": 450
        }
      },
      "source": [
        "# Get the stock data\n",
        "df = web.DataReader('AAPL',data_source='yahoo', start='2010-01-01',end='2020-04-10')\n",
        "# Show the data\n",
        "df"
      ],
      "execution_count": 0,
      "outputs": [
        {
          "output_type": "execute_result",
          "data": {
            "text/html": [
              "<div>\n",
              "<style scoped>\n",
              "    .dataframe tbody tr th:only-of-type {\n",
              "        vertical-align: middle;\n",
              "    }\n",
              "\n",
              "    .dataframe tbody tr th {\n",
              "        vertical-align: top;\n",
              "    }\n",
              "\n",
              "    .dataframe thead th {\n",
              "        text-align: right;\n",
              "    }\n",
              "</style>\n",
              "<table border=\"1\" class=\"dataframe\">\n",
              "  <thead>\n",
              "    <tr style=\"text-align: right;\">\n",
              "      <th></th>\n",
              "      <th>High</th>\n",
              "      <th>Low</th>\n",
              "      <th>Open</th>\n",
              "      <th>Close</th>\n",
              "      <th>Volume</th>\n",
              "      <th>Adj Close</th>\n",
              "    </tr>\n",
              "    <tr>\n",
              "      <th>Date</th>\n",
              "      <th></th>\n",
              "      <th></th>\n",
              "      <th></th>\n",
              "      <th></th>\n",
              "      <th></th>\n",
              "      <th></th>\n",
              "    </tr>\n",
              "  </thead>\n",
              "  <tbody>\n",
              "    <tr>\n",
              "      <th>2010-01-04</th>\n",
              "      <td>30.642857</td>\n",
              "      <td>30.340000</td>\n",
              "      <td>30.490000</td>\n",
              "      <td>30.572857</td>\n",
              "      <td>123432400.0</td>\n",
              "      <td>26.538483</td>\n",
              "    </tr>\n",
              "    <tr>\n",
              "      <th>2010-01-05</th>\n",
              "      <td>30.798571</td>\n",
              "      <td>30.464285</td>\n",
              "      <td>30.657143</td>\n",
              "      <td>30.625713</td>\n",
              "      <td>150476200.0</td>\n",
              "      <td>26.584366</td>\n",
              "    </tr>\n",
              "    <tr>\n",
              "      <th>2010-01-06</th>\n",
              "      <td>30.747143</td>\n",
              "      <td>30.107143</td>\n",
              "      <td>30.625713</td>\n",
              "      <td>30.138571</td>\n",
              "      <td>138040000.0</td>\n",
              "      <td>26.161509</td>\n",
              "    </tr>\n",
              "    <tr>\n",
              "      <th>2010-01-07</th>\n",
              "      <td>30.285715</td>\n",
              "      <td>29.864286</td>\n",
              "      <td>30.250000</td>\n",
              "      <td>30.082857</td>\n",
              "      <td>119282800.0</td>\n",
              "      <td>26.113146</td>\n",
              "    </tr>\n",
              "    <tr>\n",
              "      <th>2010-01-08</th>\n",
              "      <td>30.285715</td>\n",
              "      <td>29.865715</td>\n",
              "      <td>30.042856</td>\n",
              "      <td>30.282858</td>\n",
              "      <td>111902700.0</td>\n",
              "      <td>26.286753</td>\n",
              "    </tr>\n",
              "    <tr>\n",
              "      <th>...</th>\n",
              "      <td>...</td>\n",
              "      <td>...</td>\n",
              "      <td>...</td>\n",
              "      <td>...</td>\n",
              "      <td>...</td>\n",
              "      <td>...</td>\n",
              "    </tr>\n",
              "    <tr>\n",
              "      <th>2020-04-03</th>\n",
              "      <td>245.699997</td>\n",
              "      <td>238.970001</td>\n",
              "      <td>242.800003</td>\n",
              "      <td>241.410004</td>\n",
              "      <td>32470000.0</td>\n",
              "      <td>241.410004</td>\n",
              "    </tr>\n",
              "    <tr>\n",
              "      <th>2020-04-06</th>\n",
              "      <td>263.109985</td>\n",
              "      <td>249.380005</td>\n",
              "      <td>250.899994</td>\n",
              "      <td>262.470001</td>\n",
              "      <td>50455100.0</td>\n",
              "      <td>262.470001</td>\n",
              "    </tr>\n",
              "    <tr>\n",
              "      <th>2020-04-07</th>\n",
              "      <td>271.700012</td>\n",
              "      <td>259.000000</td>\n",
              "      <td>270.799988</td>\n",
              "      <td>259.429993</td>\n",
              "      <td>50721800.0</td>\n",
              "      <td>259.429993</td>\n",
              "    </tr>\n",
              "    <tr>\n",
              "      <th>2020-04-08</th>\n",
              "      <td>267.369995</td>\n",
              "      <td>261.230011</td>\n",
              "      <td>262.739990</td>\n",
              "      <td>266.070007</td>\n",
              "      <td>42223800.0</td>\n",
              "      <td>266.070007</td>\n",
              "    </tr>\n",
              "    <tr>\n",
              "      <th>2020-04-09</th>\n",
              "      <td>270.070007</td>\n",
              "      <td>264.700012</td>\n",
              "      <td>268.700012</td>\n",
              "      <td>267.989990</td>\n",
              "      <td>40529100.0</td>\n",
              "      <td>267.989990</td>\n",
              "    </tr>\n",
              "  </tbody>\n",
              "</table>\n",
              "<p>2585 rows × 6 columns</p>\n",
              "</div>"
            ],
            "text/plain": [
              "                  High         Low  ...       Volume   Adj Close\n",
              "Date                                ...                         \n",
              "2010-01-04   30.642857   30.340000  ...  123432400.0   26.538483\n",
              "2010-01-05   30.798571   30.464285  ...  150476200.0   26.584366\n",
              "2010-01-06   30.747143   30.107143  ...  138040000.0   26.161509\n",
              "2010-01-07   30.285715   29.864286  ...  119282800.0   26.113146\n",
              "2010-01-08   30.285715   29.865715  ...  111902700.0   26.286753\n",
              "...                ...         ...  ...          ...         ...\n",
              "2020-04-03  245.699997  238.970001  ...   32470000.0  241.410004\n",
              "2020-04-06  263.109985  249.380005  ...   50455100.0  262.470001\n",
              "2020-04-07  271.700012  259.000000  ...   50721800.0  259.429993\n",
              "2020-04-08  267.369995  261.230011  ...   42223800.0  266.070007\n",
              "2020-04-09  270.070007  264.700012  ...   40529100.0  267.989990\n",
              "\n",
              "[2585 rows x 6 columns]"
            ]
          },
          "metadata": {
            "tags": []
          },
          "execution_count": 3
        }
      ]
    },
    {
      "cell_type": "code",
      "metadata": {
        "id": "PikSo1fM85S-",
        "colab_type": "code",
        "outputId": "05e43b45-749d-4886-e0d0-08014cae0902",
        "colab": {
          "base_uri": "https://localhost:8080/",
          "height": 34
        }
      },
      "source": [
        "df.shape"
      ],
      "execution_count": 0,
      "outputs": [
        {
          "output_type": "execute_result",
          "data": {
            "text/plain": [
              "(2585, 6)"
            ]
          },
          "metadata": {
            "tags": []
          },
          "execution_count": 4
        }
      ]
    },
    {
      "cell_type": "code",
      "metadata": {
        "id": "1RYngDbC89hO",
        "colab_type": "code",
        "outputId": "f783d541-6349-48f4-fcb5-4504ccd1f66a",
        "colab": {
          "base_uri": "https://localhost:8080/",
          "height": 575
        }
      },
      "source": [
        "#Visualize closing price history\n",
        "plt.figure(figsize=(16,8))\n",
        "plt.title('Close Price History')\n",
        "plt.plot(df['Close']  )\n",
        "plt.xlabel('Date', fontsize = 18)\n",
        "plt.ylabel('Close Price USD $', fontsize = 18)"
      ],
      "execution_count": 0,
      "outputs": [
        {
          "output_type": "execute_result",
          "data": {
            "text/plain": [
              "Text(0, 0.5, 'Close Price USD $')"
            ]
          },
          "metadata": {
            "tags": []
          },
          "execution_count": 5
        },
        {
          "output_type": "display_data",
          "data": {
            "image/png": "[encoded data removed]",
            "text/plain": [
              "<Figure size 1152x576 with 1 Axes>"
            ]
          },
          "metadata": {
            "tags": []
          }
        }
      ]
    },
    {
      "cell_type": "code",
      "metadata": {
        "id": "4VX3tZd--fK6",
        "colab_type": "code",
        "outputId": "46220c13-d7c8-4f4a-ff65-472e764f81ca",
        "colab": {
          "base_uri": "https://localhost:8080/",
          "height": 34
        }
      },
      "source": [
        "#Create a new dataframe with only the close column\n",
        "data = df.filter(['Close'])\n",
        "#Convert the dataframe to numpy array\n",
        "dataset = data.values\n",
        "#Get the number of rows to train the model on\n",
        "training_data_len = math.ceil(len(dataset) * 0.8)\n",
        "training_data_len"
      ],
      "execution_count": 0,
      "outputs": [
        {
          "output_type": "execute_result",
          "data": {
            "text/plain": [
              "2068"
            ]
          },
          "metadata": {
            "tags": []
          },
          "execution_count": 6
        }
      ]
    },
    {
      "cell_type": "code",
      "metadata": {
        "colab_type": "code",
        "outputId": "f931ea3f-3049-4842-8cfe-0c1c2c38a0d8",
        "id": "fTPyClyWCMcZ",
        "colab": {
          "base_uri": "https://localhost:8080/",
          "height": 136
        }
      },
      "source": [
        "#Scale the data (Preprocessing)\n",
        "scalar = MinMaxScaler(feature_range=(0, 1))\n",
        "scaled_data = scalar.fit_transform(dataset)\n",
        "scaled_data "
      ],
      "execution_count": 0,
      "outputs": [
        {
          "output_type": "execute_result",
          "data": {
            "text/plain": [
              "array([[0.01046536],\n",
              "       [0.01064169],\n",
              "       [0.0090166 ],\n",
              "       ...,\n",
              "       [0.77392231],\n",
              "       [0.7960731 ],\n",
              "       [0.80247807]])"
            ]
          },
          "metadata": {
            "tags": []
          },
          "execution_count": 7
        }
      ]
    },
    {
      "cell_type": "code",
      "metadata": {
        "id": "TkQwf1MSCQUp",
        "colab_type": "code",
        "colab": {}
      },
      "source": [
        "#Create the training data set \n",
        "#Create the Scaled training dataset\n",
        "train_data = scaled_data[0:training_data_len, :]\n",
        "#Split the dataset into xtrain and ytrain\n",
        "x_train = []\n",
        "y_train = []\n",
        "for i in range(180, len(train_data)):\n",
        "  x_train.append(train_data[i-180:i, 0])\n",
        "  y_train.append(train_data[i, 0]) "
      ],
      "execution_count": 0,
      "outputs": []
    },
    {
      "cell_type": "code",
      "metadata": {
        "id": "uJK-PXTQGc1_",
        "colab_type": "code",
        "outputId": "95c697a2-61de-4c19-8107-a2abb4537a38",
        "colab": {
          "base_uri": "https://localhost:8080/",
          "height": 238
        }
      },
      "source": [
        "#Convert the x_train and y_train to numpy arrays \n",
        "x_train, y_train = np.array(x_train), np.array(y_train)\n",
        "x_train"
      ],
      "execution_count": 0,
      "outputs": [
        {
          "output_type": "execute_result",
          "data": {
            "text/plain": [
              "array([[0.01046536, 0.01064169, 0.0090166 , ..., 0.04027926, 0.03970738,\n",
              "        0.04345319],\n",
              "       [0.01064169, 0.0090166 , 0.00883075, ..., 0.03970738, 0.04345319,\n",
              "        0.04371053],\n",
              "       [0.0090166 , 0.00883075, 0.00949794, ..., 0.04345319, 0.04371053,\n",
              "        0.04560726],\n",
              "       ...,\n",
              "       [0.3877856 , 0.38891986, 0.38718515, ..., 0.5037434 , 0.50444393,\n",
              "        0.50234231],\n",
              "       [0.38891986, 0.38718515, 0.38915335, ..., 0.50444393, 0.50234231,\n",
              "        0.49326851],\n",
              "       [0.38718515, 0.38915335, 0.38461645, ..., 0.50234231, 0.49326851,\n",
              "        0.49306836]])"
            ]
          },
          "metadata": {
            "tags": []
          },
          "execution_count": 9
        }
      ]
    },
    {
      "cell_type": "code",
      "metadata": {
        "colab_type": "code",
        "outputId": "9743b7e2-3403-41c8-e2cd-485434f4b668",
        "id": "S_DBVWN2OEDt",
        "colab": {
          "base_uri": "https://localhost:8080/",
          "height": 34
        }
      },
      "source": [
        "#reshape the xtrain dataset to 3D as LSTM model takes input as a form of [number of samples, number of times steps, number of features]\n",
        "x_train = np.reshape(x_train, (x_train.shape[0], x_train.shape[1], 1))\n",
        "x_train.shape"
      ],
      "execution_count": 0,
      "outputs": [
        {
          "output_type": "execute_result",
          "data": {
            "text/plain": [
              "(1888, 180, 1)"
            ]
          },
          "metadata": {
            "tags": []
          },
          "execution_count": 10
        }
      ]
    },
    {
      "cell_type": "code",
      "metadata": {
        "id": "D8ydLWfGOEcz",
        "colab_type": "code",
        "colab": {}
      },
      "source": [
        "#Build the LSTM Model\n",
        "model = Sequential()\n",
        "model.add(LSTM(50, return_sequences=True, input_shape = (x_train.shape[1], 1) ))\n",
        "model.add(LSTM(50, return_sequences=False))\n",
        "model.add(Dense(25))\n",
        "model.add(Dense(1))"
      ],
      "execution_count": 0,
      "outputs": []
    },
    {
      "cell_type": "code",
      "metadata": {
        "colab_type": "code",
        "id": "rSilPgMIif_F",
        "colab": {}
      },
      "source": [
        "#Compile the model\n",
        "model.compile(optimizer = 'adam',loss = 'mean_squared_error')"
      ],
      "execution_count": 0,
      "outputs": []
    },
    {
      "cell_type": "code",
      "metadata": {
        "id": "RZ9CEsYoigWf",
        "colab_type": "code",
        "outputId": "6f9c6686-fefa-46ba-c0bf-48d41c5d5c78",
        "colab": {
          "base_uri": "https://localhost:8080/",
          "height": 204
        }
      },
      "source": [
        "#Train the model\n",
        "model.fit(x_train, y_train, batch_size=1, epochs=5, verbose=1)"
      ],
      "execution_count": 0,
      "outputs": [
        {
          "output_type": "stream",
          "text": [
            "Epoch 1/5\n",
            "1888/1888 [==============================] - 193s 102ms/step - loss: 5.4826e-04\n",
            "Epoch 2/5\n",
            "1888/1888 [==============================] - 192s 102ms/step - loss: 1.8542e-04\n",
            "Epoch 3/5\n",
            "1888/1888 [==============================] - 191s 101ms/step - loss: 1.4487e-04\n",
            "Epoch 4/5\n",
            "1888/1888 [==============================] - 190s 101ms/step - loss: 1.0675e-04\n",
            "Epoch 5/5\n",
            "1888/1888 [==============================] - 190s 100ms/step - loss: 1.0686e-04\n"
          ],
          "name": "stdout"
        },
        {
          "output_type": "execute_result",
          "data": {
            "text/plain": [
              "<keras.callbacks.callbacks.History at 0x7fd48cdd4eb8>"
            ]
          },
          "metadata": {
            "tags": []
          },
          "execution_count": 13
        }
      ]
    },
    {
      "cell_type": "code",
      "metadata": {
        "id": "Fqa0tRZvjYMh",
        "colab_type": "code",
        "colab": {}
      },
      "source": [
        "#Create the testing dataset \n",
        "#Create the new array containing the scaled values from index 3620 to \n",
        "test_data = scaled_data[training_data_len - 180: , :]\n",
        "#Create the datasets x_test and y_test\n",
        "x_test = []\n",
        "y_test = dataset[training_data_len : , : ]\n",
        "for i in range(180, len(test_data)):\n",
        "  x_test.append(test_data[i-180 : i, 0])"
      ],
      "execution_count": 0,
      "outputs": []
    },
    {
      "cell_type": "code",
      "metadata": {
        "id": "OU5PHlgMlN3p",
        "colab_type": "code",
        "colab": {}
      },
      "source": [
        "#Convert the data into the numpy array\n",
        "x_test = np.array(x_test)"
      ],
      "execution_count": 0,
      "outputs": []
    },
    {
      "cell_type": "code",
      "metadata": {
        "id": "uvBMwynKloMZ",
        "colab_type": "code",
        "outputId": "da83db90-442b-4e38-9910-c2c56bc03fb7",
        "colab": {
          "base_uri": "https://localhost:8080/"
        }
      },
      "source": [
        "#Reshape the data\n",
        "x_test = np.reshape(x_test, (x_test.shape[0], x_test.shape[1], 1))\n",
        "x_test.shape"
      ],
      "execution_count": 0,
      "outputs": [
        {
          "output_type": "execute_result",
          "data": {
            "text/plain": [
              "(517, 180, 1)"
            ]
          },
          "metadata": {
            "tags": []
          },
          "execution_count": 16
        }
      ]
    },
    {
      "cell_type": "code",
      "metadata": {
        "id": "SLJE8dEamLCZ",
        "colab_type": "code",
        "colab": {}
      },
      "source": [
        "#Get the models to predict values\n",
        "predictions = model.predict(x_test)\n",
        "predictions = scalar.inverse_transform(predictions)"
      ],
      "execution_count": 0,
      "outputs": []
    },
    {
      "cell_type": "code",
      "metadata": {
        "id": "_eeKZ8pama5Y",
        "colab_type": "code",
        "outputId": "60e1ee92-f604-4993-9d88-1cab4291de0a",
        "colab": {
          "base_uri": "https://localhost:8080/"
        }
      },
      "source": [
        "#Get the RMSE\n",
        "rmse = np.sqrt(np.mean((predictions - y_test)**2))\n",
        "rmse"
      ],
      "execution_count": 0,
      "outputs": [
        {
          "output_type": "execute_result",
          "data": {
            "text/plain": [
              "5.757322972427535"
            ]
          },
          "metadata": {
            "tags": []
          },
          "execution_count": 18
        }
      ]
    },
    {
      "cell_type": "code",
      "metadata": {
        "id": "sIzxGmkGm9oH",
        "colab_type": "code",
        "outputId": "72663ff8-96d0-40d4-c088-167753b1f5c4",
        "colab": {
          "base_uri": "https://localhost:8080/"
        }
      },
      "source": [
        "#Plot the data\n",
        "train = data[:training_data_len]\n",
        "valid = data[training_data_len : ]\n",
        "valid['Predictions'] = predictions\n",
        "#Visualize the data\n",
        "plt.figure(figsize=(16,8))\n",
        "plt.title('Apple (AAPL)')\n",
        "plt.xlabel('Date', fontsize=18)\n",
        "plt.ylabel('Closing price in $', fontsize=18)\n",
        "plt.plot(train['Close'])\n",
        "plt.plot(valid[['Close','Predictions']])\n",
        "plt.legend(['Train', 'Actual', 'Predictions'], loc='lower right')\n",
        "plt.show()"
      ],
      "execution_count": 0,
      "outputs": [
        {
          "output_type": "stream",
          "text": [
            "/usr/local/lib/python3.6/dist-packages/ipykernel_launcher.py:3: SettingWithCopyWarning: \n",
            "A value is trying to be set on a copy of a slice from a DataFrame.\n",
            "Try using .loc[row_indexer,col_indexer] = value instead\n",
            "\n",
            "See the caveats in the documentation: https://pandas.pydata.org/pandas-docs/stable/user_guide/indexing.html#returning-a-view-versus-a-copy\n",
            "  This is separate from the ipykernel package so we can avoid doing imports until\n"
          ],
          "name": "stderr"
        },
        {
          "output_type": "display_data",
          "data": {
            "image/png": "[encoded data removed]",
            "text/plain": [
              "<Figure size 1152x576 with 1 Axes>"
            ]
          },
          "metadata": {
            "tags": []
          }
        }
      ]
    },
    {
      "cell_type": "code",
      "metadata": {
        "id": "Qy0z8PV_oxs2",
        "colab_type": "code",
        "outputId": "827c0960-3a64-481a-cb2a-cd99f8eb30b7",
        "colab": {
          "base_uri": "https://localhost:8080/"
        }
      },
      "source": [
        "#Show the valid and predicted value\n",
        "valid[400:450]"
      ],
      "execution_count": 0,
      "outputs": [
        {
          "output_type": "execute_result",
          "data": {
            "text/html": [
              "<div>\n",
              "<style scoped>\n",
              "    .dataframe tbody tr th:only-of-type {\n",
              "        vertical-align: middle;\n",
              "    }\n",
              "\n",
              "    .dataframe tbody tr th {\n",
              "        vertical-align: top;\n",
              "    }\n",
              "\n",
              "    .dataframe thead th {\n",
              "        text-align: right;\n",
              "    }\n",
              "</style>\n",
              "<table border=\"1\" class=\"dataframe\">\n",
              "  <thead>\n",
              "    <tr style=\"text-align: right;\">\n",
              "      <th></th>\n",
              "      <th>Close</th>\n",
              "      <th>Predictions</th>\n",
              "    </tr>\n",
              "    <tr>\n",
              "      <th>Date</th>\n",
              "      <th></th>\n",
              "      <th></th>\n",
              "    </tr>\n",
              "  </thead>\n",
              "  <tbody>\n",
              "    <tr>\n",
              "      <th>2019-10-23</th>\n",
              "      <td>243.179993</td>\n",
              "      <td>242.626907</td>\n",
              "    </tr>\n",
              "    <tr>\n",
              "      <th>2019-10-24</th>\n",
              "      <td>243.580002</td>\n",
              "      <td>245.724579</td>\n",
              "    </tr>\n",
              "    <tr>\n",
              "      <th>2019-10-25</th>\n",
              "      <td>246.580002</td>\n",
              "      <td>246.073853</td>\n",
              "    </tr>\n",
              "    <tr>\n",
              "      <th>2019-10-28</th>\n",
              "      <td>249.050003</td>\n",
              "      <td>249.103119</td>\n",
              "    </tr>\n",
              "    <tr>\n",
              "      <th>2019-10-29</th>\n",
              "      <td>243.289993</td>\n",
              "      <td>251.753616</td>\n",
              "    </tr>\n",
              "    <tr>\n",
              "      <th>2019-10-30</th>\n",
              "      <td>243.259995</td>\n",
              "      <td>244.982697</td>\n",
              "    </tr>\n",
              "    <tr>\n",
              "      <th>2019-10-31</th>\n",
              "      <td>248.759995</td>\n",
              "      <td>244.640213</td>\n",
              "    </tr>\n",
              "    <tr>\n",
              "      <th>2019-11-01</th>\n",
              "      <td>255.820007</td>\n",
              "      <td>251.440918</td>\n",
              "    </tr>\n",
              "    <tr>\n",
              "      <th>2019-11-04</th>\n",
              "      <td>257.500000</td>\n",
              "      <td>259.803558</td>\n",
              "    </tr>\n",
              "    <tr>\n",
              "      <th>2019-11-05</th>\n",
              "      <td>257.130005</td>\n",
              "      <td>261.140869</td>\n",
              "    </tr>\n",
              "    <tr>\n",
              "      <th>2019-11-06</th>\n",
              "      <td>257.239990</td>\n",
              "      <td>259.578705</td>\n",
              "    </tr>\n",
              "    <tr>\n",
              "      <th>2019-11-07</th>\n",
              "      <td>259.429993</td>\n",
              "      <td>259.116577</td>\n",
              "    </tr>\n",
              "    <tr>\n",
              "      <th>2019-11-08</th>\n",
              "      <td>260.140015</td>\n",
              "      <td>261.607758</td>\n",
              "    </tr>\n",
              "    <tr>\n",
              "      <th>2019-11-11</th>\n",
              "      <td>262.200012</td>\n",
              "      <td>262.536438</td>\n",
              "    </tr>\n",
              "    <tr>\n",
              "      <th>2019-11-12</th>\n",
              "      <td>261.959991</td>\n",
              "      <td>264.797028</td>\n",
              "    </tr>\n",
              "    <tr>\n",
              "      <th>2019-11-13</th>\n",
              "      <td>264.470001</td>\n",
              "      <td>264.418335</td>\n",
              "    </tr>\n",
              "    <tr>\n",
              "      <th>2019-11-14</th>\n",
              "      <td>262.640015</td>\n",
              "      <td>267.124298</td>\n",
              "    </tr>\n",
              "    <tr>\n",
              "      <th>2019-11-15</th>\n",
              "      <td>265.760010</td>\n",
              "      <td>264.967804</td>\n",
              "    </tr>\n",
              "    <tr>\n",
              "      <th>2019-11-18</th>\n",
              "      <td>267.100006</td>\n",
              "      <td>268.414001</td>\n",
              "    </tr>\n",
              "    <tr>\n",
              "      <th>2019-11-19</th>\n",
              "      <td>266.290009</td>\n",
              "      <td>270.063080</td>\n",
              "    </tr>\n",
              "    <tr>\n",
              "      <th>2019-11-20</th>\n",
              "      <td>263.190002</td>\n",
              "      <td>268.847839</td>\n",
              "    </tr>\n",
              "    <tr>\n",
              "      <th>2019-11-21</th>\n",
              "      <td>262.010010</td>\n",
              "      <td>265.082947</td>\n",
              "    </tr>\n",
              "    <tr>\n",
              "      <th>2019-11-22</th>\n",
              "      <td>261.779999</td>\n",
              "      <td>263.942383</td>\n",
              "    </tr>\n",
              "    <tr>\n",
              "      <th>2019-11-25</th>\n",
              "      <td>266.369995</td>\n",
              "      <td>264.235626</td>\n",
              "    </tr>\n",
              "    <tr>\n",
              "      <th>2019-11-26</th>\n",
              "      <td>264.290009</td>\n",
              "      <td>269.932617</td>\n",
              "    </tr>\n",
              "    <tr>\n",
              "      <th>2019-11-27</th>\n",
              "      <td>267.839996</td>\n",
              "      <td>267.527618</td>\n",
              "    </tr>\n",
              "    <tr>\n",
              "      <th>2019-11-29</th>\n",
              "      <td>267.250000</td>\n",
              "      <td>271.150116</td>\n",
              "    </tr>\n",
              "    <tr>\n",
              "      <th>2019-12-02</th>\n",
              "      <td>264.160004</td>\n",
              "      <td>270.337036</td>\n",
              "    </tr>\n",
              "    <tr>\n",
              "      <th>2019-12-03</th>\n",
              "      <td>259.450012</td>\n",
              "      <td>266.401306</td>\n",
              "    </tr>\n",
              "    <tr>\n",
              "      <th>2019-12-04</th>\n",
              "      <td>261.739990</td>\n",
              "      <td>261.062256</td>\n",
              "    </tr>\n",
              "    <tr>\n",
              "      <th>2019-12-05</th>\n",
              "      <td>265.579987</td>\n",
              "      <td>264.312195</td>\n",
              "    </tr>\n",
              "    <tr>\n",
              "      <th>2019-12-06</th>\n",
              "      <td>270.709991</td>\n",
              "      <td>269.472656</td>\n",
              "    </tr>\n",
              "    <tr>\n",
              "      <th>2019-12-09</th>\n",
              "      <td>266.920013</td>\n",
              "      <td>275.285339</td>\n",
              "    </tr>\n",
              "    <tr>\n",
              "      <th>2019-12-10</th>\n",
              "      <td>268.480011</td>\n",
              "      <td>270.082062</td>\n",
              "    </tr>\n",
              "    <tr>\n",
              "      <th>2019-12-11</th>\n",
              "      <td>270.769989</td>\n",
              "      <td>271.124634</td>\n",
              "    </tr>\n",
              "    <tr>\n",
              "      <th>2019-12-12</th>\n",
              "      <td>271.459991</td>\n",
              "      <td>273.886261</td>\n",
              "    </tr>\n",
              "    <tr>\n",
              "      <th>2019-12-13</th>\n",
              "      <td>275.149994</td>\n",
              "      <td>274.581696</td>\n",
              "    </tr>\n",
              "    <tr>\n",
              "      <th>2019-12-16</th>\n",
              "      <td>279.859985</td>\n",
              "      <td>278.599243</td>\n",
              "    </tr>\n",
              "    <tr>\n",
              "      <th>2019-12-17</th>\n",
              "      <td>280.410004</td>\n",
              "      <td>283.787445</td>\n",
              "    </tr>\n",
              "    <tr>\n",
              "      <th>2019-12-18</th>\n",
              "      <td>279.739990</td>\n",
              "      <td>283.692047</td>\n",
              "    </tr>\n",
              "    <tr>\n",
              "      <th>2019-12-19</th>\n",
              "      <td>280.019989</td>\n",
              "      <td>282.131744</td>\n",
              "    </tr>\n",
              "    <tr>\n",
              "      <th>2019-12-20</th>\n",
              "      <td>279.440002</td>\n",
              "      <td>282.272461</td>\n",
              "    </tr>\n",
              "    <tr>\n",
              "      <th>2019-12-23</th>\n",
              "      <td>284.000000</td>\n",
              "      <td>281.739349</td>\n",
              "    </tr>\n",
              "    <tr>\n",
              "      <th>2019-12-24</th>\n",
              "      <td>284.269989</td>\n",
              "      <td>287.319061</td>\n",
              "    </tr>\n",
              "    <tr>\n",
              "      <th>2019-12-26</th>\n",
              "      <td>289.910004</td>\n",
              "      <td>287.542969</td>\n",
              "    </tr>\n",
              "    <tr>\n",
              "      <th>2019-12-27</th>\n",
              "      <td>289.799988</td>\n",
              "      <td>293.741364</td>\n",
              "    </tr>\n",
              "    <tr>\n",
              "      <th>2019-12-30</th>\n",
              "      <td>291.519989</td>\n",
              "      <td>293.000214</td>\n",
              "    </tr>\n",
              "    <tr>\n",
              "      <th>2019-12-31</th>\n",
              "      <td>293.649994</td>\n",
              "      <td>294.322937</td>\n",
              "    </tr>\n",
              "    <tr>\n",
              "      <th>2020-01-02</th>\n",
              "      <td>300.350006</td>\n",
              "      <td>296.577087</td>\n",
              "    </tr>\n",
              "    <tr>\n",
              "      <th>2020-01-03</th>\n",
              "      <td>297.429993</td>\n",
              "      <td>304.321747</td>\n",
              "    </tr>\n",
              "  </tbody>\n",
              "</table>\n",
              "</div>"
            ],
            "text/plain": [
              "                 Close  Predictions\n",
              "Date                               \n",
              "2019-10-23  243.179993   242.626907\n",
              "2019-10-24  243.580002   245.724579\n",
              "2019-10-25  246.580002   246.073853\n",
              "2019-10-28  249.050003   249.103119\n",
              "2019-10-29  243.289993   251.753616\n",
              "2019-10-30  243.259995   244.982697\n",
              "2019-10-31  248.759995   244.640213\n",
              "2019-11-01  255.820007   251.440918\n",
              "2019-11-04  257.500000   259.803558\n",
              "2019-11-05  257.130005   261.140869\n",
              "2019-11-06  257.239990   259.578705\n",
              "2019-11-07  259.429993   259.116577\n",
              "2019-11-08  260.140015   261.607758\n",
              "2019-11-11  262.200012   262.536438\n",
              "2019-11-12  261.959991   264.797028\n",
              "2019-11-13  264.470001   264.418335\n",
              "2019-11-14  262.640015   267.124298\n",
              "2019-11-15  265.760010   264.967804\n",
              "2019-11-18  267.100006   268.414001\n",
              "2019-11-19  266.290009   270.063080\n",
              "2019-11-20  263.190002   268.847839\n",
              "2019-11-21  262.010010   265.082947\n",
              "2019-11-22  261.779999   263.942383\n",
              "2019-11-25  266.369995   264.235626\n",
              "2019-11-26  264.290009   269.932617\n",
              "2019-11-27  267.839996   267.527618\n",
              "2019-11-29  267.250000   271.150116\n",
              "2019-12-02  264.160004   270.337036\n",
              "2019-12-03  259.450012   266.401306\n",
              "2019-12-04  261.739990   261.062256\n",
              "2019-12-05  265.579987   264.312195\n",
              "2019-12-06  270.709991   269.472656\n",
              "2019-12-09  266.920013   275.285339\n",
              "2019-12-10  268.480011   270.082062\n",
              "2019-12-11  270.769989   271.124634\n",
              "2019-12-12  271.459991   273.886261\n",
              "2019-12-13  275.149994   274.581696\n",
              "2019-12-16  279.859985   278.599243\n",
              "2019-12-17  280.410004   283.787445\n",
              "2019-12-18  279.739990   283.692047\n",
              "2019-12-19  280.019989   282.131744\n",
              "2019-12-20  279.440002   282.272461\n",
              "2019-12-23  284.000000   281.739349\n",
              "2019-12-24  284.269989   287.319061\n",
              "2019-12-26  289.910004   287.542969\n",
              "2019-12-27  289.799988   293.741364\n",
              "2019-12-30  291.519989   293.000214\n",
              "2019-12-31  293.649994   294.322937\n",
              "2020-01-02  300.350006   296.577087\n",
              "2020-01-03  297.429993   304.321747"
            ]
          },
          "metadata": {
            "tags": []
          },
          "execution_count": 20
        }
      ]
    },
    {
      "cell_type": "code",
      "metadata": {
        "id": "lqRrihdTVuu5",
        "colab_type": "code",
        "colab": {}
      },
      "source": [
        ""
      ],
      "execution_count": 0,
      "outputs": []
    },
    {
      "cell_type": "code",
      "metadata": {
        "id": "Mol9ObwBo_IN",
        "colab_type": "code",
        "outputId": "c1fd8ebe-a242-4b87-9db5-039e98ae4dac",
        "colab": {
          "base_uri": "https://localhost:8080/"
        }
      },
      "source": [
        "#Check the quote\n",
        "apple_quote = web.DataReader('AAPL', data_source='yahoo', start='2012-01-01', end='2019-12-17' )\n",
        "#Create new dataframe\n",
        "new_df = apple_quote.filter(['Close'])\n",
        "#Get the last 60 days of closing  price values and convert the dataframe to an array\n",
        "last_60_days = new_df[-180 : ].values\n",
        "#Scale the data to be values between 0 and 1\n",
        "last_60_days_scaled = scalar.transform(last_60_days)\n",
        "#Create an empty list\n",
        "X_test = []\n",
        "#Append the past 60 days\n",
        "X_test.append(last_60_days_scaled)\n",
        "#Convert the x_test to numpy array\n",
        "X_test = np.array(X_test)\n",
        "#Reshape the data\n",
        "X_test = np.reshape(X_test, (X_test.shape[0], X_test.shape[1], 1))\n",
        "#Get the predicted scaled price\n",
        "pred_price = model.predict(X_test)\n",
        "#Undo scaling\n",
        "pred_price = scalar.inverse_transform(pred_price)\n",
        "print(pred_price)"
      ],
      "execution_count": 0,
      "outputs": [
        {
          "output_type": "stream",
          "text": [
            "[[283.69202]]\n"
          ],
          "name": "stdout"
        }
      ]
    },
    {
      "cell_type": "code",
      "metadata": {
        "id": "PbNdjcqprrL5",
        "colab_type": "code",
        "outputId": "fbee17a9-1fd1-4cc3-a44a-5ff09e9a58b3",
        "colab": {
          "base_uri": "https://localhost:8080/"
        }
      },
      "source": [
        "#Get the actual value\n",
        "apple_quote = web.DataReader('AAPL', data_source='yahoo', start='2019-12-18', end='2019-12-18' )\n",
        "apple_quote['Close']"
      ],
      "execution_count": 0,
      "outputs": [
        {
          "output_type": "execute_result",
          "data": {
            "text/plain": [
              "Date\n",
              "2019-12-18    279.73999\n",
              "Name: Close, dtype: float64"
            ]
          },
          "metadata": {
            "tags": []
          },
          "execution_count": 22
        }
      ]
    }
  ]
}